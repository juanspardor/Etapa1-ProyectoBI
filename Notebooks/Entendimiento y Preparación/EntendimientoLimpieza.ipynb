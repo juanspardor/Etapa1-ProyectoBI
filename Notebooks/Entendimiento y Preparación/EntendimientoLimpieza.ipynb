{
 "cells": [
  {
   "cell_type": "markdown",
   "id": "1e635ef4-539d-45b7-8860-b4a528909471",
   "metadata": {
    "id": "1e635ef4-539d-45b7-8860-b4a528909471"
   },
   "source": [
    "# **Dependencias**"
   ]
  },
  {
   "cell_type": "code",
   "execution_count": null,
   "id": "96ee9031-7a30-4e0a-898a-d2345aba157d",
   "metadata": {
    "id": "96ee9031-7a30-4e0a-898a-d2345aba157d",
    "outputId": "b22c3fc1-9215-4deb-f57a-34714dacf005"
   },
   "outputs": [
    {
     "name": "stderr",
     "output_type": "stream",
     "text": [
      "[nltk_data] Downloading package punkt to /Users/juanse/nltk_data...\n",
      "[nltk_data]   Package punkt is already up-to-date!\n",
      "[nltk_data] Downloading package stopwords to\n",
      "[nltk_data]     /Users/juanse/nltk_data...\n",
      "[nltk_data]   Package stopwords is already up-to-date!\n",
      "[nltk_data] Downloading package wordnet to /Users/juanse/nltk_data...\n",
      "[nltk_data]   Package wordnet is already up-to-date!\n"
     ]
    },
    {
     "data": {
      "text/plain": [
       "True"
      ]
     },
     "execution_count": 1,
     "metadata": {},
     "output_type": "execute_result"
    }
   ],
   "source": [
    " # librería Natural Language Toolkit, usada para trabajar con textos\n",
    "import nltk\n",
    "# Punkt permite separar un texto en frases.\n",
    "nltk.download('punkt')\n",
    "nltk.download('stopwords')\n",
    "nltk.download('wordnet')"
   ]
  },
  {
   "cell_type": "code",
   "execution_count": null,
   "id": "cdd32286-3cfe-4374-86db-59dd01b58378",
   "metadata": {
    "id": "cdd32286-3cfe-4374-86db-59dd01b58378"
   },
   "outputs": [],
   "source": [
    "# Instalación de librerias\n",
    "import pandas as pd\n",
    "import numpy as np\n",
    "import sys\n",
    "\n",
    "import re, string, unicodedata\n",
    "import contractions\n",
    "import inflect\n",
    "from nltk import word_tokenize, sent_tokenize\n",
    "from nltk.corpus import stopwords\n",
    "from nltk.stem import LancasterStemmer, WordNetLemmatizer\n",
    "\n",
    "from sklearn.model_selection import train_test_split,GridSearchCV\n",
    "from sklearn.feature_extraction.text import TfidfVectorizer, CountVectorizer, HashingVectorizer\n",
    "from sklearn.pipeline import Pipeline, FeatureUnion\n",
    "from sklearn.svm import SVC\n",
    "from sklearn.ensemble import BaggingClassifier, RandomForestClassifier, AdaBoostClassifier\n",
    "from sklearn.naive_bayes import BernoulliNB\n",
    "from sklearn.metrics import classification_report, confusion_matrix\n",
    "\n",
    "from scipy import stats as st\n",
    "\n",
    "from nltk.stem import SnowballStemmer\n",
    "\n",
    "from statistics import mode\n",
    "\n",
    "from sklearn.base import BaseEstimator, ClassifierMixin\n",
    "\n",
    "import matplotlib.pyplot as plt\n",
    "import re"
   ]
  },
  {
   "cell_type": "markdown",
   "id": "48da1aca-57b4-4ab7-b69c-4e13b3584900",
   "metadata": {
    "id": "48da1aca-57b4-4ab7-b69c-4e13b3584900"
   },
   "source": [
    "# **Carga de datos**"
   ]
  },
  {
   "cell_type": "code",
   "execution_count": null,
   "id": "23174f15-07db-4443-8b79-45d46bd37c61",
   "metadata": {
    "id": "23174f15-07db-4443-8b79-45d46bd37c61",
    "outputId": "fbb6978f-3b67-4d75-c45f-fbe69b59ab3d"
   },
   "outputs": [
    {
     "data": {
      "text/plain": [
       "'/Users/juanse/Documents/BI/Proyectos/Etapa1/Notebooks/Preprocesamiento'"
      ]
     },
     "execution_count": 3,
     "metadata": {},
     "output_type": "execute_result"
    }
   ],
   "source": [
    "import os\n",
    "\n",
    "current_directory = os.getcwd()\n",
    "current_directory"
   ]
  },
  {
   "cell_type": "code",
   "execution_count": null,
   "id": "61177656-f467-4d12-8149-cd09ae06606e",
   "metadata": {
    "id": "61177656-f467-4d12-8149-cd09ae06606e"
   },
   "outputs": [],
   "source": [
    "ruta = \"./../../DatosBrutos/tipo2_entrenamiento_estudiantes.csv\""
   ]
  },
  {
   "cell_type": "code",
   "execution_count": null,
   "id": "de058042-c904-44ef-8265-7e84fe4aa441",
   "metadata": {
    "id": "de058042-c904-44ef-8265-7e84fe4aa441"
   },
   "outputs": [],
   "source": [
    "data=pd.read_csv(ruta, sep=',', encoding = 'utf-8')\n",
    "# Asignación a una nueva variable de los datos leidos\n",
    "data_t, data_v = train_test_split(data, test_size=0.2, random_state=0)"
   ]
  },
  {
   "cell_type": "code",
   "execution_count": null,
   "id": "809c8c38-0d6f-4c45-a2ac-a4e395b0f103",
   "metadata": {
    "id": "809c8c38-0d6f-4c45-a2ac-a4e395b0f103",
    "outputId": "24cb77bc-6f73-4e5f-bfc1-7b276a06dc11"
   },
   "outputs": [
    {
     "data": {
      "text/html": [
       "<div>\n",
       "<style scoped>\n",
       "    .dataframe tbody tr th:only-of-type {\n",
       "        vertical-align: middle;\n",
       "    }\n",
       "\n",
       "    .dataframe tbody tr th {\n",
       "        vertical-align: top;\n",
       "    }\n",
       "\n",
       "    .dataframe thead th {\n",
       "        text-align: right;\n",
       "    }\n",
       "</style>\n",
       "<table border=\"1\" class=\"dataframe\">\n",
       "  <thead>\n",
       "    <tr style=\"text-align: right;\">\n",
       "      <th></th>\n",
       "      <th>Review</th>\n",
       "      <th>Class</th>\n",
       "    </tr>\n",
       "  </thead>\n",
       "  <tbody>\n",
       "    <tr>\n",
       "      <th>6115</th>\n",
       "      <td>El servicio impecable, las albercas con agua t...</td>\n",
       "      <td>4</td>\n",
       "    </tr>\n",
       "    <tr>\n",
       "      <th>6123</th>\n",
       "      <td>Cuando vas de vacaciones a la playa esperas po...</td>\n",
       "      <td>2</td>\n",
       "    </tr>\n",
       "    <tr>\n",
       "      <th>6813</th>\n",
       "      <td>No es lo mejor pero obligadamente tenes que ir...</td>\n",
       "      <td>4</td>\n",
       "    </tr>\n",
       "    <tr>\n",
       "      <th>5058</th>\n",
       "      <td>Para ser la principal atracción o al menos ser...</td>\n",
       "      <td>3</td>\n",
       "    </tr>\n",
       "    <tr>\n",
       "      <th>7280</th>\n",
       "      <td>La catedral, situada en la plaza principal, va...</td>\n",
       "      <td>3</td>\n",
       "    </tr>\n",
       "    <tr>\n",
       "      <th>...</th>\n",
       "      <td>...</td>\n",
       "      <td>...</td>\n",
       "    </tr>\n",
       "    <tr>\n",
       "      <th>4931</th>\n",
       "      <td>Muy delicioso, excelente atención, buen servic...</td>\n",
       "      <td>4</td>\n",
       "    </tr>\n",
       "    <tr>\n",
       "      <th>3264</th>\n",
       "      <td>muchísimo calorrrrrrrr....realmente agobiante....</td>\n",
       "      <td>4</td>\n",
       "    </tr>\n",
       "    <tr>\n",
       "      <th>1653</th>\n",
       "      <td>Ubicado muy cerca de la ciudad amurallada por ...</td>\n",
       "      <td>5</td>\n",
       "    </tr>\n",
       "    <tr>\n",
       "      <th>2607</th>\n",
       "      <td>Una exposición de la comida Regiomontana moder...</td>\n",
       "      <td>5</td>\n",
       "    </tr>\n",
       "    <tr>\n",
       "      <th>2732</th>\n",
       "      <td>Que fuimos a donde celebrar nuestro aniversari...</td>\n",
       "      <td>5</td>\n",
       "    </tr>\n",
       "  </tbody>\n",
       "</table>\n",
       "<p>6300 rows × 2 columns</p>\n",
       "</div>"
      ],
      "text/plain": [
       "                                                 Review  Class\n",
       "6115  El servicio impecable, las albercas con agua t...      4\n",
       "6123  Cuando vas de vacaciones a la playa esperas po...      2\n",
       "6813  No es lo mejor pero obligadamente tenes que ir...      4\n",
       "5058  Para ser la principal atracción o al menos ser...      3\n",
       "7280  La catedral, situada en la plaza principal, va...      3\n",
       "...                                                 ...    ...\n",
       "4931  Muy delicioso, excelente atención, buen servic...      4\n",
       "3264  muchísimo calorrrrrrrr....realmente agobiante....      4\n",
       "1653  Ubicado muy cerca de la ciudad amurallada por ...      5\n",
       "2607  Una exposición de la comida Regiomontana moder...      5\n",
       "2732  Que fuimos a donde celebrar nuestro aniversari...      5\n",
       "\n",
       "[6300 rows x 2 columns]"
      ]
     },
     "execution_count": 6,
     "metadata": {},
     "output_type": "execute_result"
    }
   ],
   "source": [
    "data_t"
   ]
  },
  {
   "cell_type": "markdown",
   "id": "32155a57-0f83-450a-b522-f826f0cb45b8",
   "metadata": {
    "id": "32155a57-0f83-450a-b522-f826f0cb45b8"
   },
   "source": [
    "# **Parte 1: Entendimiento de los datos**"
   ]
  },
  {
   "cell_type": "code",
   "execution_count": null,
   "id": "33f7e94c-2345-433a-8ae1-54eacf6ee818",
   "metadata": {
    "id": "33f7e94c-2345-433a-8ae1-54eacf6ee818",
    "outputId": "943b143c-6bd1-411f-e786-0f4198845ba5"
   },
   "outputs": [
    {
     "data": {
      "text/plain": [
       "(6300, 2)"
      ]
     },
     "execution_count": 7,
     "metadata": {},
     "output_type": "execute_result"
    }
   ],
   "source": [
    "#Dimensiones\n",
    "data_t.shape"
   ]
  },
  {
   "cell_type": "markdown",
   "id": "a5901e0c-7ba1-4884-8835-ed1621288605",
   "metadata": {
    "id": "a5901e0c-7ba1-4884-8835-ed1621288605"
   },
   "source": [
    "Hay 7875 datos con 1 variable (el texto bruto)"
   ]
  },
  {
   "cell_type": "markdown",
   "id": "0d32d70a-4b7e-4d25-b705-bd4bf2c02a49",
   "metadata": {
    "id": "0d32d70a-4b7e-4d25-b705-bd4bf2c02a49"
   },
   "source": [
    "## Unicidad"
   ]
  },
  {
   "cell_type": "code",
   "execution_count": null,
   "id": "cf3e008a-92ff-46c5-8098-61bdf6579149",
   "metadata": {
    "id": "cf3e008a-92ff-46c5-8098-61bdf6579149",
    "outputId": "1e3df979-e28b-4e7e-fe42-0b7cb2d8be68"
   },
   "outputs": [
    {
     "data": {
      "text/plain": [
       "68"
      ]
     },
     "execution_count": 8,
     "metadata": {},
     "output_type": "execute_result"
    }
   ],
   "source": [
    "#Veamos el numero de datos repetidos\n",
    "data_t.duplicated(keep = False).sum()"
   ]
  },
  {
   "cell_type": "markdown",
   "id": "0b83255b-3ca3-4431-93f9-6a73e0e73cdf",
   "metadata": {
    "id": "0b83255b-3ca3-4431-93f9-6a73e0e73cdf"
   },
   "source": [
    "Hay problemas de unicidad, ya que hay 102 datos duplicados"
   ]
  },
  {
   "cell_type": "markdown",
   "id": "468c40b6-1a53-4108-bfaa-aa1a66b04cb9",
   "metadata": {
    "id": "468c40b6-1a53-4108-bfaa-aa1a66b04cb9"
   },
   "source": [
    "## Completitud"
   ]
  },
  {
   "cell_type": "code",
   "execution_count": null,
   "id": "aa83cb09-6a3f-4f8d-92af-96cdeba0f8a9",
   "metadata": {
    "id": "aa83cb09-6a3f-4f8d-92af-96cdeba0f8a9",
    "outputId": "3c0763a6-4f88-442d-80a0-f69c474fe441"
   },
   "outputs": [
    {
     "data": {
      "text/plain": [
       "Review    0.0\n",
       "Class     0.0\n",
       "dtype: float64"
      ]
     },
     "execution_count": 9,
     "metadata": {},
     "output_type": "execute_result"
    }
   ],
   "source": [
    "#Veamos cuantos datos faltantes hay\n",
    "data_t.isna().sum() / data_t.shape[0]"
   ]
  },
  {
   "cell_type": "markdown",
   "id": "c50e26f3-a26d-4ae0-9a70-c2398449cd42",
   "metadata": {
    "id": "c50e26f3-a26d-4ae0-9a70-c2398449cd42"
   },
   "source": [
    "No hay problemas de completitud pues hay 0 datos faltantes"
   ]
  },
  {
   "cell_type": "markdown",
   "id": "d758fa32-1561-45c6-8808-8634976a7c48",
   "metadata": {
    "id": "d758fa32-1561-45c6-8808-8634976a7c48"
   },
   "source": [
    "## Consistencia"
   ]
  },
  {
   "cell_type": "code",
   "execution_count": null,
   "id": "f59d1ed4-684a-428a-a54d-c221acfe38ac",
   "metadata": {
    "id": "f59d1ed4-684a-428a-a54d-c221acfe38ac",
    "outputId": "401da0c3-8d47-4038-d9c4-b440104a9c66"
   },
   "outputs": [
    {
     "data": {
      "text/plain": [
       "Class\n",
       "5    1917\n",
       "4    1547\n",
       "3    1259\n",
       "2     951\n",
       "1     626\n",
       "Name: count, dtype: int64"
      ]
     },
     "execution_count": 10,
     "metadata": {},
     "output_type": "execute_result"
    }
   ],
   "source": [
    "#Solo toca revisar que no haya ninguna calificacion que no este entre 1-5\n",
    "data_t.value_counts(data_t['Class'])"
   ]
  },
  {
   "cell_type": "markdown",
   "id": "a522b978-a4af-4141-8e82-8bbf5bb68bbb",
   "metadata": {
    "id": "a522b978-a4af-4141-8e82-8bbf5bb68bbb"
   },
   "source": [
    "No se evidencian problemas de consistencia"
   ]
  },
  {
   "cell_type": "markdown",
   "id": "d88f65da-ca1c-4fb8-961d-c47a184f7d4a",
   "metadata": {
    "id": "d88f65da-ca1c-4fb8-961d-c47a184f7d4a"
   },
   "source": [
    "## **Entendimiento más profundo de los datos**"
   ]
  },
  {
   "cell_type": "code",
   "execution_count": null,
   "id": "f5d3b9b6-7e96-4140-9061-ae3601ed3593",
   "metadata": {
    "id": "f5d3b9b6-7e96-4140-9061-ae3601ed3593",
    "outputId": "b0f219da-5ec0-41fa-e734-4c88458e8d13"
   },
   "outputs": [
    {
     "data": {
      "image/png": "[encoded data removed]",
      "text/plain": [
       "<Figure size 800x800 with 1 Axes>"
      ]
     },
     "metadata": {},
     "output_type": "display_data"
    }
   ],
   "source": [
    "#Veamos la distribucion de las clasificaciones\n",
    "# Plotting the pie chart\n",
    "value_counts = data_t.value_counts(data_t['Class'])\n",
    "plt.figure(figsize=(8, 8))\n",
    "plt.pie(value_counts, labels=value_counts.index, autopct='%1.1f%%', startangle=140)\n",
    "plt.title('Distribucion de las clasificaciones')\n",
    "plt.axis('equal')  # Equal aspect ratio ensures that pie is drawn as a circle.\n",
    "plt.show()"
   ]
  },
  {
   "cell_type": "markdown",
   "id": "2721c9a1-724e-4ac5-98d1-688761f120b6",
   "metadata": {
    "id": "2721c9a1-724e-4ac5-98d1-688761f120b6"
   },
   "source": [
    "## Estadisticas descriptivas de los textos"
   ]
  },
  {
   "cell_type": "code",
   "execution_count": null,
   "id": "6eeb9d17-1199-4f90-a5e0-72921042da7e",
   "metadata": {
    "id": "6eeb9d17-1199-4f90-a5e0-72921042da7e"
   },
   "outputs": [],
   "source": [
    "textos = data_t.copy()\n",
    "textos['Conteo'] = [len(x) for x in textos['Review']]\n",
    "textos['Moda'] = [mode([len(x) for x in i.split(' ')]) for i in textos['Review']]\n",
    "textos['Max'] = [[max([len(x) for x in i.split(' ')])][0] for i in textos['Review']]\n",
    "textos['Min'] = [[min([len(x) for x in i.split(' ')])][0] for i in textos['Review']]"
   ]
  },
  {
   "cell_type": "code",
   "execution_count": null,
   "id": "0fe69e7c-1f65-4df4-9349-fc05007774c9",
   "metadata": {
    "id": "0fe69e7c-1f65-4df4-9349-fc05007774c9",
    "outputId": "6cab3651-83e1-4f7a-f669-290ef477de6e"
   },
   "outputs": [
    {
     "data": {
      "text/html": [
       "<div>\n",
       "<style scoped>\n",
       "    .dataframe tbody tr th:only-of-type {\n",
       "        vertical-align: middle;\n",
       "    }\n",
       "\n",
       "    .dataframe tbody tr th {\n",
       "        vertical-align: top;\n",
       "    }\n",
       "\n",
       "    .dataframe thead th {\n",
       "        text-align: right;\n",
       "    }\n",
       "</style>\n",
       "<table border=\"1\" class=\"dataframe\">\n",
       "  <thead>\n",
       "    <tr style=\"text-align: right;\">\n",
       "      <th></th>\n",
       "      <th>Review</th>\n",
       "      <th>Class</th>\n",
       "      <th>Conteo</th>\n",
       "      <th>Moda</th>\n",
       "      <th>Max</th>\n",
       "      <th>Min</th>\n",
       "    </tr>\n",
       "  </thead>\n",
       "  <tbody>\n",
       "    <tr>\n",
       "      <th>6115</th>\n",
       "      <td>El servicio impecable, las albercas con agua t...</td>\n",
       "      <td>4</td>\n",
       "      <td>518</td>\n",
       "      <td>2</td>\n",
       "      <td>15</td>\n",
       "      <td>1</td>\n",
       "    </tr>\n",
       "    <tr>\n",
       "      <th>6123</th>\n",
       "      <td>Cuando vas de vacaciones a la playa esperas po...</td>\n",
       "      <td>2</td>\n",
       "      <td>716</td>\n",
       "      <td>2</td>\n",
       "      <td>11</td>\n",
       "      <td>1</td>\n",
       "    </tr>\n",
       "    <tr>\n",
       "      <th>6813</th>\n",
       "      <td>No es lo mejor pero obligadamente tenes que ir...</td>\n",
       "      <td>4</td>\n",
       "      <td>110</td>\n",
       "      <td>2</td>\n",
       "      <td>13</td>\n",
       "      <td>1</td>\n",
       "    </tr>\n",
       "    <tr>\n",
       "      <th>5058</th>\n",
       "      <td>Para ser la principal atracción o al menos ser...</td>\n",
       "      <td>3</td>\n",
       "      <td>530</td>\n",
       "      <td>2</td>\n",
       "      <td>10</td>\n",
       "      <td>1</td>\n",
       "    </tr>\n",
       "    <tr>\n",
       "      <th>7280</th>\n",
       "      <td>La catedral, situada en la plaza principal, va...</td>\n",
       "      <td>3</td>\n",
       "      <td>193</td>\n",
       "      <td>2</td>\n",
       "      <td>15</td>\n",
       "      <td>1</td>\n",
       "    </tr>\n",
       "    <tr>\n",
       "      <th>...</th>\n",
       "      <td>...</td>\n",
       "      <td>...</td>\n",
       "      <td>...</td>\n",
       "      <td>...</td>\n",
       "      <td>...</td>\n",
       "      <td>...</td>\n",
       "    </tr>\n",
       "    <tr>\n",
       "      <th>4931</th>\n",
       "      <td>Muy delicioso, excelente atención, buen servic...</td>\n",
       "      <td>4</td>\n",
       "      <td>101</td>\n",
       "      <td>9</td>\n",
       "      <td>11</td>\n",
       "      <td>1</td>\n",
       "    </tr>\n",
       "    <tr>\n",
       "      <th>3264</th>\n",
       "      <td>muchísimo calorrrrrrrr....realmente agobiante....</td>\n",
       "      <td>4</td>\n",
       "      <td>526</td>\n",
       "      <td>2</td>\n",
       "      <td>34</td>\n",
       "      <td>0</td>\n",
       "    </tr>\n",
       "    <tr>\n",
       "      <th>1653</th>\n",
       "      <td>Ubicado muy cerca de la ciudad amurallada por ...</td>\n",
       "      <td>5</td>\n",
       "      <td>325</td>\n",
       "      <td>2</td>\n",
       "      <td>10</td>\n",
       "      <td>1</td>\n",
       "    </tr>\n",
       "    <tr>\n",
       "      <th>2607</th>\n",
       "      <td>Una exposición de la comida Regiomontana moder...</td>\n",
       "      <td>5</td>\n",
       "      <td>301</td>\n",
       "      <td>2</td>\n",
       "      <td>19</td>\n",
       "      <td>1</td>\n",
       "    </tr>\n",
       "    <tr>\n",
       "      <th>2732</th>\n",
       "      <td>Que fuimos a donde celebrar nuestro aniversari...</td>\n",
       "      <td>5</td>\n",
       "      <td>672</td>\n",
       "      <td>2</td>\n",
       "      <td>13</td>\n",
       "      <td>1</td>\n",
       "    </tr>\n",
       "  </tbody>\n",
       "</table>\n",
       "<p>6300 rows × 6 columns</p>\n",
       "</div>"
      ],
      "text/plain": [
       "                                                 Review  Class  Conteo  Moda  \\\n",
       "6115  El servicio impecable, las albercas con agua t...      4     518     2   \n",
       "6123  Cuando vas de vacaciones a la playa esperas po...      2     716     2   \n",
       "6813  No es lo mejor pero obligadamente tenes que ir...      4     110     2   \n",
       "5058  Para ser la principal atracción o al menos ser...      3     530     2   \n",
       "7280  La catedral, situada en la plaza principal, va...      3     193     2   \n",
       "...                                                 ...    ...     ...   ...   \n",
       "4931  Muy delicioso, excelente atención, buen servic...      4     101     9   \n",
       "3264  muchísimo calorrrrrrrr....realmente agobiante....      4     526     2   \n",
       "1653  Ubicado muy cerca de la ciudad amurallada por ...      5     325     2   \n",
       "2607  Una exposición de la comida Regiomontana moder...      5     301     2   \n",
       "2732  Que fuimos a donde celebrar nuestro aniversari...      5     672     2   \n",
       "\n",
       "      Max  Min  \n",
       "6115   15    1  \n",
       "6123   11    1  \n",
       "6813   13    1  \n",
       "5058   10    1  \n",
       "7280   15    1  \n",
       "...   ...  ...  \n",
       "4931   11    1  \n",
       "3264   34    0  \n",
       "1653   10    1  \n",
       "2607   19    1  \n",
       "2732   13    1  \n",
       "\n",
       "[6300 rows x 6 columns]"
      ]
     },
     "execution_count": 13,
     "metadata": {},
     "output_type": "execute_result"
    }
   ],
   "source": [
    "textos"
   ]
  },
  {
   "cell_type": "markdown",
   "id": "be57eac5-0f66-4dc0-986c-73bec93ac3c2",
   "metadata": {
    "id": "be57eac5-0f66-4dc0-986c-73bec93ac3c2"
   },
   "source": [
    "# **Parte 2: Preparacion de los datos**"
   ]
  },
  {
   "cell_type": "code",
   "execution_count": null,
   "id": "411fc941-316b-46de-8bdb-d27bba5b5bf8",
   "metadata": {
    "id": "411fc941-316b-46de-8bdb-d27bba5b5bf8"
   },
   "outputs": [],
   "source": [
    "#Primero eliminamos los datos duplicados\n",
    "df_procesado = data_t.copy()\n",
    "df_procesado = df_procesado.drop_duplicates()"
   ]
  },
  {
   "cell_type": "code",
   "execution_count": null,
   "id": "9ed5e69f-ac62-4e75-ae13-4ec060a63e1f",
   "metadata": {
    "id": "9ed5e69f-ac62-4e75-ae13-4ec060a63e1f",
    "outputId": "15a78322-0c06-4d35-cc97-e46042dd20ef"
   },
   "outputs": [
    {
     "data": {
      "text/plain": [
       "(6254, 2)"
      ]
     },
     "execution_count": 15,
     "metadata": {},
     "output_type": "execute_result"
    }
   ],
   "source": [
    "df_procesado.shape"
   ]
  },
  {
   "cell_type": "markdown",
   "id": "435e1bbc-781f-4b57-b39c-7a55b984951c",
   "metadata": {
    "id": "435e1bbc-781f-4b57-b39c-7a55b984951c"
   },
   "source": [
    "### Funciones de limpieza"
   ]
  },
  {
   "cell_type": "code",
   "execution_count": null,
   "id": "f09c9361-23e5-4b48-80d0-4a2ae69e2790",
   "metadata": {
    "id": "f09c9361-23e5-4b48-80d0-4a2ae69e2790"
   },
   "outputs": [],
   "source": [
    "def remove_non_ascii(words):\n",
    "    \"\"\"Remove non-ASCII characters from list of tokenized words\"\"\"\n",
    "    new_words = []\n",
    "    for word in words:\n",
    "        if word is not None:\n",
    "          new_word = unicodedata.normalize('NFKD', word).encode('ascii', 'ignore').decode('utf-8', 'ignore')\n",
    "          new_words.append(new_word)\n",
    "    return new_words\n",
    "\n",
    "def to_lowercase(words):\n",
    "    \"\"\"Convert all characters to lowercase from list of tokenized words\"\"\"\n",
    "    new_words = []\n",
    "    for word in words:\n",
    "        if word is not None:\n",
    "            new_word = word.lower()\n",
    "            if new_word != ' ':\n",
    "                new_words.append(new_word)\n",
    "    return new_words\n",
    "\n",
    "\n",
    "def replace_numbers(words):\n",
    "    \"\"\"Replace all interger occurrences in list of tokenized words with textual representation\"\"\"\n",
    "    p = inflect.engine()\n",
    "    new_words = []\n",
    "    for word in words:\n",
    "        if word.isnumeric():\n",
    "            new_word = p.number_to_words(word)\n",
    "            new_words.append(new_word)\n",
    "        else:\n",
    "            new_words.append(word)\n",
    "    return new_words\n",
    "\n",
    "def contains_number(s):\n",
    "    # Regular expression pattern to match any digit\n",
    "    pattern = re.compile(r'\\d')\n",
    "    return bool(pattern.search(s))\n",
    "\n",
    "def remove_numbers(words):\n",
    "    new_words = []\n",
    "    for word in words:\n",
    "        if not contains_number(word):\n",
    "            new_words.append(word)\n",
    "    return new_words\n",
    "\n",
    "def remove_punctuation(words):\n",
    "    \"\"\"Remove punctuation from list of tokenized words\"\"\"\n",
    "    new_words = []\n",
    "    for word in words:\n",
    "        if word is not None:\n",
    "            # Adjusted regular expression pattern to exclude colon\n",
    "            new_word = re.sub(r'[^\\w\\s:]', '', word)\n",
    "            if new_word != '':\n",
    "                new_words.append(new_word)\n",
    "    return new_words\n",
    "\n",
    "spanish_stopwords = set(stopwords.words('spanish'))\n",
    "def remove_stopwords(words):\n",
    "    new_words = []\n",
    "    for word in words:\n",
    "        if word is not None:\n",
    "            if word not in spanish_stopwords:\n",
    "                new_words.append(word)\n",
    "    return new_words\n",
    "\n",
    "#Esta version solo convierte a minusculas y quita puntuacion\n",
    "def preprocessing(words):\n",
    "    words = to_lowercase(words)\n",
    " #   words = replace_numbers(words)\n",
    "    words = remove_punctuation(words)\n",
    "#    words = remove_non_ascii(words)\n",
    "#    words = remove_stopwords(words)\n",
    "    return words\n",
    "\n",
    "#Esta version elimina convierte a misnusculas, quita puntuacion, quita stopwords\n",
    "def preprocessing2(words):\n",
    "    words = to_lowercase(words)\n",
    "    words = remove_numbers(words)\n",
    "    words = remove_punctuation(words)\n",
    "   # words = remove_non_ascii(words)\n",
    "    words = remove_stopwords(words)\n",
    "    return words"
   ]
  },
  {
   "cell_type": "markdown",
   "id": "e93a2403-27a9-4847-87db-1826061bf751",
   "metadata": {
    "id": "e93a2403-27a9-4847-87db-1826061bf751"
   },
   "source": [
    "#### Deberiamos eliminar las stopwords?\n",
    "Primero miremos el conjunto de palabras categorizadas como Stopwords en el idioma Español."
   ]
  },
  {
   "cell_type": "code",
   "execution_count": null,
   "id": "efc10fff-f140-4fbf-ac4a-bbf1ae36dc34",
   "metadata": {
    "id": "efc10fff-f140-4fbf-ac4a-bbf1ae36dc34",
    "outputId": "8f0f0325-8517-4846-e0f5-b2556deddbbd"
   },
   "outputs": [
    {
     "data": {
      "text/plain": [
       "{'a',\n",
       " 'al',\n",
       " 'algo',\n",
       " 'algunas',\n",
       " 'algunos',\n",
       " 'ante',\n",
       " 'antes',\n",
       " 'como',\n",
       " 'con',\n",
       " 'contra',\n",
       " 'cual',\n",
       " 'cuando',\n",
       " 'de',\n",
       " 'del',\n",
       " 'desde',\n",
       " 'donde',\n",
       " 'durante',\n",
       " 'e',\n",
       " 'el',\n",
       " 'ella',\n",
       " 'ellas',\n",
       " 'ellos',\n",
       " 'en',\n",
       " 'entre',\n",
       " 'era',\n",
       " 'erais',\n",
       " 'eran',\n",
       " 'eras',\n",
       " 'eres',\n",
       " 'es',\n",
       " 'esa',\n",
       " 'esas',\n",
       " 'ese',\n",
       " 'eso',\n",
       " 'esos',\n",
       " 'esta',\n",
       " 'estaba',\n",
       " 'estabais',\n",
       " 'estaban',\n",
       " 'estabas',\n",
       " 'estad',\n",
       " 'estada',\n",
       " 'estadas',\n",
       " 'estado',\n",
       " 'estados',\n",
       " 'estamos',\n",
       " 'estando',\n",
       " 'estar',\n",
       " 'estaremos',\n",
       " 'estará',\n",
       " 'estarán',\n",
       " 'estarás',\n",
       " 'estaré',\n",
       " 'estaréis',\n",
       " 'estaría',\n",
       " 'estaríais',\n",
       " 'estaríamos',\n",
       " 'estarían',\n",
       " 'estarías',\n",
       " 'estas',\n",
       " 'este',\n",
       " 'estemos',\n",
       " 'esto',\n",
       " 'estos',\n",
       " 'estoy',\n",
       " 'estuve',\n",
       " 'estuviera',\n",
       " 'estuvierais',\n",
       " 'estuvieran',\n",
       " 'estuvieras',\n",
       " 'estuvieron',\n",
       " 'estuviese',\n",
       " 'estuvieseis',\n",
       " 'estuviesen',\n",
       " 'estuvieses',\n",
       " 'estuvimos',\n",
       " 'estuviste',\n",
       " 'estuvisteis',\n",
       " 'estuviéramos',\n",
       " 'estuviésemos',\n",
       " 'estuvo',\n",
       " 'está',\n",
       " 'estábamos',\n",
       " 'estáis',\n",
       " 'están',\n",
       " 'estás',\n",
       " 'esté',\n",
       " 'estéis',\n",
       " 'estén',\n",
       " 'estés',\n",
       " 'fue',\n",
       " 'fuera',\n",
       " 'fuerais',\n",
       " 'fueran',\n",
       " 'fueras',\n",
       " 'fueron',\n",
       " 'fuese',\n",
       " 'fueseis',\n",
       " 'fuesen',\n",
       " 'fueses',\n",
       " 'fui',\n",
       " 'fuimos',\n",
       " 'fuiste',\n",
       " 'fuisteis',\n",
       " 'fuéramos',\n",
       " 'fuésemos',\n",
       " 'ha',\n",
       " 'habida',\n",
       " 'habidas',\n",
       " 'habido',\n",
       " 'habidos',\n",
       " 'habiendo',\n",
       " 'habremos',\n",
       " 'habrá',\n",
       " 'habrán',\n",
       " 'habrás',\n",
       " 'habré',\n",
       " 'habréis',\n",
       " 'habría',\n",
       " 'habríais',\n",
       " 'habríamos',\n",
       " 'habrían',\n",
       " 'habrías',\n",
       " 'habéis',\n",
       " 'había',\n",
       " 'habíais',\n",
       " 'habíamos',\n",
       " 'habían',\n",
       " 'habías',\n",
       " 'han',\n",
       " 'has',\n",
       " 'hasta',\n",
       " 'hay',\n",
       " 'haya',\n",
       " 'hayamos',\n",
       " 'hayan',\n",
       " 'hayas',\n",
       " 'hayáis',\n",
       " 'he',\n",
       " 'hemos',\n",
       " 'hube',\n",
       " 'hubiera',\n",
       " 'hubierais',\n",
       " 'hubieran',\n",
       " 'hubieras',\n",
       " 'hubieron',\n",
       " 'hubiese',\n",
       " 'hubieseis',\n",
       " 'hubiesen',\n",
       " 'hubieses',\n",
       " 'hubimos',\n",
       " 'hubiste',\n",
       " 'hubisteis',\n",
       " 'hubiéramos',\n",
       " 'hubiésemos',\n",
       " 'hubo',\n",
       " 'la',\n",
       " 'las',\n",
       " 'le',\n",
       " 'les',\n",
       " 'lo',\n",
       " 'los',\n",
       " 'me',\n",
       " 'mi',\n",
       " 'mis',\n",
       " 'mucho',\n",
       " 'muchos',\n",
       " 'muy',\n",
       " 'más',\n",
       " 'mí',\n",
       " 'mía',\n",
       " 'mías',\n",
       " 'mío',\n",
       " 'míos',\n",
       " 'nada',\n",
       " 'ni',\n",
       " 'no',\n",
       " 'nos',\n",
       " 'nosotras',\n",
       " 'nosotros',\n",
       " 'nuestra',\n",
       " 'nuestras',\n",
       " 'nuestro',\n",
       " 'nuestros',\n",
       " 'o',\n",
       " 'os',\n",
       " 'otra',\n",
       " 'otras',\n",
       " 'otro',\n",
       " 'otros',\n",
       " 'para',\n",
       " 'pero',\n",
       " 'poco',\n",
       " 'por',\n",
       " 'porque',\n",
       " 'que',\n",
       " 'quien',\n",
       " 'quienes',\n",
       " 'qué',\n",
       " 'se',\n",
       " 'sea',\n",
       " 'seamos',\n",
       " 'sean',\n",
       " 'seas',\n",
       " 'sentid',\n",
       " 'sentida',\n",
       " 'sentidas',\n",
       " 'sentido',\n",
       " 'sentidos',\n",
       " 'seremos',\n",
       " 'será',\n",
       " 'serán',\n",
       " 'serás',\n",
       " 'seré',\n",
       " 'seréis',\n",
       " 'sería',\n",
       " 'seríais',\n",
       " 'seríamos',\n",
       " 'serían',\n",
       " 'serías',\n",
       " 'seáis',\n",
       " 'siente',\n",
       " 'sin',\n",
       " 'sintiendo',\n",
       " 'sobre',\n",
       " 'sois',\n",
       " 'somos',\n",
       " 'son',\n",
       " 'soy',\n",
       " 'su',\n",
       " 'sus',\n",
       " 'suya',\n",
       " 'suyas',\n",
       " 'suyo',\n",
       " 'suyos',\n",
       " 'sí',\n",
       " 'también',\n",
       " 'tanto',\n",
       " 'te',\n",
       " 'tendremos',\n",
       " 'tendrá',\n",
       " 'tendrán',\n",
       " 'tendrás',\n",
       " 'tendré',\n",
       " 'tendréis',\n",
       " 'tendría',\n",
       " 'tendríais',\n",
       " 'tendríamos',\n",
       " 'tendrían',\n",
       " 'tendrías',\n",
       " 'tened',\n",
       " 'tenemos',\n",
       " 'tenga',\n",
       " 'tengamos',\n",
       " 'tengan',\n",
       " 'tengas',\n",
       " 'tengo',\n",
       " 'tengáis',\n",
       " 'tenida',\n",
       " 'tenidas',\n",
       " 'tenido',\n",
       " 'tenidos',\n",
       " 'teniendo',\n",
       " 'tenéis',\n",
       " 'tenía',\n",
       " 'teníais',\n",
       " 'teníamos',\n",
       " 'tenían',\n",
       " 'tenías',\n",
       " 'ti',\n",
       " 'tiene',\n",
       " 'tienen',\n",
       " 'tienes',\n",
       " 'todo',\n",
       " 'todos',\n",
       " 'tu',\n",
       " 'tus',\n",
       " 'tuve',\n",
       " 'tuviera',\n",
       " 'tuvierais',\n",
       " 'tuvieran',\n",
       " 'tuvieras',\n",
       " 'tuvieron',\n",
       " 'tuviese',\n",
       " 'tuvieseis',\n",
       " 'tuviesen',\n",
       " 'tuvieses',\n",
       " 'tuvimos',\n",
       " 'tuviste',\n",
       " 'tuvisteis',\n",
       " 'tuviéramos',\n",
       " 'tuviésemos',\n",
       " 'tuvo',\n",
       " 'tuya',\n",
       " 'tuyas',\n",
       " 'tuyo',\n",
       " 'tuyos',\n",
       " 'tú',\n",
       " 'un',\n",
       " 'una',\n",
       " 'uno',\n",
       " 'unos',\n",
       " 'vosotras',\n",
       " 'vosotros',\n",
       " 'vuestra',\n",
       " 'vuestras',\n",
       " 'vuestro',\n",
       " 'vuestros',\n",
       " 'y',\n",
       " 'ya',\n",
       " 'yo',\n",
       " 'él',\n",
       " 'éramos'}"
      ]
     },
     "execution_count": 17,
     "metadata": {},
     "output_type": "execute_result"
    }
   ],
   "source": [
    "spanish_stopwords"
   ]
  },
  {
   "cell_type": "markdown",
   "id": "46524a8f-cdc8-4a9f-9e0e-ebab6f598c47",
   "metadata": {
    "id": "46524a8f-cdc8-4a9f-9e0e-ebab6f598c47"
   },
   "source": [
    "Usando sentido comun, pareciera que no hay palabras asi que tengan mucho sentido orientado a expresar una buena o mala experiencia, como equipo, consideramos útil quitarlas."
   ]
  },
  {
   "cell_type": "markdown",
   "id": "295a8d2c-d8d4-4dc4-adf3-1d5332bdfd01",
   "metadata": {
    "id": "295a8d2c-d8d4-4dc4-adf3-1d5332bdfd01"
   },
   "source": [
    "## **Tokenizacion**"
   ]
  },
  {
   "cell_type": "code",
   "execution_count": null,
   "id": "cf4e7007-535f-4ca1-8093-f04154fff0d1",
   "metadata": {
    "id": "cf4e7007-535f-4ca1-8093-f04154fff0d1",
    "outputId": "fe65315a-0623-4d7a-dca9-c2eb7199ddfe"
   },
   "outputs": [
    {
     "data": {
      "text/plain": [
       "0"
      ]
     },
     "execution_count": 18,
     "metadata": {},
     "output_type": "execute_result"
    }
   ],
   "source": [
    "#Aplica la corrección de las contracciones (como se ve en el resultado, no tiene efecto alguno en realidad)\n",
    "review_antes = df_procesado['Review'].loc[600]\n",
    "df_procesado['Review'] = df_procesado['Review'].apply(contractions.fix)\n",
    "review_despues = df_procesado['Review'].loc[600]\n",
    "\n",
    "len(review_antes)-len(review_despues)"
   ]
  },
  {
   "cell_type": "markdown",
   "id": "4c4d44b0-af44-4bff-8f8a-0d91aaa58cce",
   "metadata": {
    "id": "4c4d44b0-af44-4bff-8f8a-0d91aaa58cce"
   },
   "source": [
    "No eliminó ninguna contracción."
   ]
  },
  {
   "cell_type": "code",
   "execution_count": null,
   "id": "13868e13-6bd2-41bd-8d20-727356c83221",
   "metadata": {
    "id": "13868e13-6bd2-41bd-8d20-727356c83221"
   },
   "outputs": [],
   "source": [
    "#Tokens\n",
    "df_procesado['words'] = df_procesado['Review'].apply(word_tokenize)"
   ]
  },
  {
   "cell_type": "code",
   "execution_count": null,
   "id": "5d0f0de1-f017-40ce-907a-39362c65aac9",
   "metadata": {
    "id": "5d0f0de1-f017-40ce-907a-39362c65aac9",
    "outputId": "fd416e96-867c-470e-99f3-178bce9f50d1"
   },
   "outputs": [
    {
     "data": {
      "text/html": [
       "<div>\n",
       "<style scoped>\n",
       "    .dataframe tbody tr th:only-of-type {\n",
       "        vertical-align: middle;\n",
       "    }\n",
       "\n",
       "    .dataframe tbody tr th {\n",
       "        vertical-align: top;\n",
       "    }\n",
       "\n",
       "    .dataframe thead th {\n",
       "        text-align: right;\n",
       "    }\n",
       "</style>\n",
       "<table border=\"1\" class=\"dataframe\">\n",
       "  <thead>\n",
       "    <tr style=\"text-align: right;\">\n",
       "      <th></th>\n",
       "      <th>Review</th>\n",
       "      <th>Class</th>\n",
       "      <th>words</th>\n",
       "    </tr>\n",
       "  </thead>\n",
       "  <tbody>\n",
       "    <tr>\n",
       "      <th>6115</th>\n",
       "      <td>El servicio impecable, las albercas con agua t...</td>\n",
       "      <td>4</td>\n",
       "      <td>[El, servicio, impecable, ,, las, albercas, co...</td>\n",
       "    </tr>\n",
       "    <tr>\n",
       "      <th>6123</th>\n",
       "      <td>Cuando vas de vacaciones a la playa esperas po...</td>\n",
       "      <td>2</td>\n",
       "      <td>[Cuando, vas, de, vacaciones, a, la, playa, es...</td>\n",
       "    </tr>\n",
       "    <tr>\n",
       "      <th>6813</th>\n",
       "      <td>No es lo mejor pero obligadamente tenes que ir...</td>\n",
       "      <td>4</td>\n",
       "      <td>[No, es, lo, mejor, pero, obligadamente, tenes...</td>\n",
       "    </tr>\n",
       "    <tr>\n",
       "      <th>5058</th>\n",
       "      <td>Para ser la principal atracción o al menos ser...</td>\n",
       "      <td>3</td>\n",
       "      <td>[Para, ser, la, principal, atracción, o, al, m...</td>\n",
       "    </tr>\n",
       "    <tr>\n",
       "      <th>7280</th>\n",
       "      <td>La catedral, situada en la plaza principal, va...</td>\n",
       "      <td>3</td>\n",
       "      <td>[La, catedral, ,, situada, en, la, plaza, prin...</td>\n",
       "    </tr>\n",
       "  </tbody>\n",
       "</table>\n",
       "</div>"
      ],
      "text/plain": [
       "                                                 Review  Class  \\\n",
       "6115  El servicio impecable, las albercas con agua t...      4   \n",
       "6123  Cuando vas de vacaciones a la playa esperas po...      2   \n",
       "6813  No es lo mejor pero obligadamente tenes que ir...      4   \n",
       "5058  Para ser la principal atracción o al menos ser...      3   \n",
       "7280  La catedral, situada en la plaza principal, va...      3   \n",
       "\n",
       "                                                  words  \n",
       "6115  [El, servicio, impecable, ,, las, albercas, co...  \n",
       "6123  [Cuando, vas, de, vacaciones, a, la, playa, es...  \n",
       "6813  [No, es, lo, mejor, pero, obligadamente, tenes...  \n",
       "5058  [Para, ser, la, principal, atracción, o, al, m...  \n",
       "7280  [La, catedral, ,, situada, en, la, plaza, prin...  "
      ]
     },
     "execution_count": 20,
     "metadata": {},
     "output_type": "execute_result"
    }
   ],
   "source": [
    "df_procesado.head()"
   ]
  },
  {
   "cell_type": "code",
   "execution_count": null,
   "id": "7bf16564-d7f5-4389-89d5-de8dc3f72a96",
   "metadata": {
    "id": "7bf16564-d7f5-4389-89d5-de8dc3f72a96",
    "outputId": "be9a5e6b-8c56-42f2-b485-19e06f608326"
   },
   "outputs": [
    {
     "data": {
      "text/plain": [
       "6115    [El, servicio, impecable, ,, las, albercas, co...\n",
       "6123    [Cuando, vas, de, vacaciones, a, la, playa, es...\n",
       "6813    [No, es, lo, mejor, pero, obligadamente, tenes...\n",
       "5058    [Para, ser, la, principal, atracción, o, al, m...\n",
       "7280    [La, catedral, ,, situada, en, la, plaza, prin...\n",
       "                              ...                        \n",
       "4931    [Muy, delicioso, ,, excelente, atención, ,, bu...\n",
       "3264    [muchísimo, calorrrrrrrr, ...., realmente, ago...\n",
       "1653    [Ubicado, muy, cerca, de, la, ciudad, amuralla...\n",
       "2607    [Una, exposición, de, la, comida, Regiomontana...\n",
       "2732    [Que, fuimos, a, donde, celebrar, nuestro, ani...\n",
       "Name: words, Length: 6254, dtype: object"
      ]
     },
     "execution_count": 21,
     "metadata": {},
     "output_type": "execute_result"
    }
   ],
   "source": [
    "df_procesado['words'].dropna()"
   ]
  },
  {
   "cell_type": "code",
   "execution_count": null,
   "id": "391d3f00-8cb8-4ec8-b4e4-865c3ece0c5c",
   "metadata": {
    "id": "391d3f00-8cb8-4ec8-b4e4-865c3ece0c5c",
    "outputId": "e62b5a63-7194-40b5-8cfb-42557c8642a6"
   },
   "outputs": [
    {
     "data": {
      "text/plain": [
       "(6254, 3)"
      ]
     },
     "execution_count": 22,
     "metadata": {},
     "output_type": "execute_result"
    }
   ],
   "source": [
    "df_procesado.shape"
   ]
  },
  {
   "cell_type": "code",
   "execution_count": null,
   "id": "90746d4b-5c89-4076-862b-5e1eb6387eb0",
   "metadata": {
    "id": "90746d4b-5c89-4076-862b-5e1eb6387eb0"
   },
   "outputs": [],
   "source": [
    "#Ahora apliquemos la reduccion de ruido (dos versiones distintas)\n",
    "df_procesado['words1']=df_procesado['words'].apply(preprocessing)\n",
    "df_procesado['words2']=df_procesado['words'].apply(preprocessing2)"
   ]
  },
  {
   "cell_type": "code",
   "execution_count": null,
   "id": "d36c3e91-7cf3-44b1-9c7a-320b5e7b64c9",
   "metadata": {
    "id": "d36c3e91-7cf3-44b1-9c7a-320b5e7b64c9",
    "outputId": "181fd7fa-1316-485d-c217-5b78da45db50"
   },
   "outputs": [
    {
     "data": {
      "text/html": [
       "<div>\n",
       "<style scoped>\n",
       "    .dataframe tbody tr th:only-of-type {\n",
       "        vertical-align: middle;\n",
       "    }\n",
       "\n",
       "    .dataframe tbody tr th {\n",
       "        vertical-align: top;\n",
       "    }\n",
       "\n",
       "    .dataframe thead th {\n",
       "        text-align: right;\n",
       "    }\n",
       "</style>\n",
       "<table border=\"1\" class=\"dataframe\">\n",
       "  <thead>\n",
       "    <tr style=\"text-align: right;\">\n",
       "      <th></th>\n",
       "      <th>Review</th>\n",
       "      <th>Class</th>\n",
       "      <th>words</th>\n",
       "      <th>words1</th>\n",
       "      <th>words2</th>\n",
       "    </tr>\n",
       "  </thead>\n",
       "  <tbody>\n",
       "    <tr>\n",
       "      <th>6115</th>\n",
       "      <td>El servicio impecable, las albercas con agua t...</td>\n",
       "      <td>4</td>\n",
       "      <td>[El, servicio, impecable, ,, las, albercas, co...</td>\n",
       "      <td>[el, servicio, impecable, las, albercas, con, ...</td>\n",
       "      <td>[servicio, impecable, albercas, agua, templada...</td>\n",
       "    </tr>\n",
       "    <tr>\n",
       "      <th>6123</th>\n",
       "      <td>Cuando vas de vacaciones a la playa esperas po...</td>\n",
       "      <td>2</td>\n",
       "      <td>[Cuando, vas, de, vacaciones, a, la, playa, es...</td>\n",
       "      <td>[cuando, vas, de, vacaciones, a, la, playa, es...</td>\n",
       "      <td>[vas, vacaciones, playa, esperas, poder, mar, ...</td>\n",
       "    </tr>\n",
       "    <tr>\n",
       "      <th>6813</th>\n",
       "      <td>No es lo mejor pero obligadamente tenes que ir...</td>\n",
       "      <td>4</td>\n",
       "      <td>[No, es, lo, mejor, pero, obligadamente, tenes...</td>\n",
       "      <td>[no, es, lo, mejor, pero, obligadamente, tenes...</td>\n",
       "      <td>[mejor, obligadamente, tenes, ir, tomarte, esc...</td>\n",
       "    </tr>\n",
       "    <tr>\n",
       "      <th>5058</th>\n",
       "      <td>Para ser la principal atracción o al menos ser...</td>\n",
       "      <td>3</td>\n",
       "      <td>[Para, ser, la, principal, atracción, o, al, m...</td>\n",
       "      <td>[para, ser, la, principal, atracción, o, al, m...</td>\n",
       "      <td>[ser, principal, atracción, menos, ser, catalo...</td>\n",
       "    </tr>\n",
       "    <tr>\n",
       "      <th>7280</th>\n",
       "      <td>La catedral, situada en la plaza principal, va...</td>\n",
       "      <td>3</td>\n",
       "      <td>[La, catedral, ,, situada, en, la, plaza, prin...</td>\n",
       "      <td>[la, catedral, situada, en, la, plaza, princip...</td>\n",
       "      <td>[catedral, situada, plaza, principal, vale, pe...</td>\n",
       "    </tr>\n",
       "  </tbody>\n",
       "</table>\n",
       "</div>"
      ],
      "text/plain": [
       "                                                 Review  Class  \\\n",
       "6115  El servicio impecable, las albercas con agua t...      4   \n",
       "6123  Cuando vas de vacaciones a la playa esperas po...      2   \n",
       "6813  No es lo mejor pero obligadamente tenes que ir...      4   \n",
       "5058  Para ser la principal atracción o al menos ser...      3   \n",
       "7280  La catedral, situada en la plaza principal, va...      3   \n",
       "\n",
       "                                                  words  \\\n",
       "6115  [El, servicio, impecable, ,, las, albercas, co...   \n",
       "6123  [Cuando, vas, de, vacaciones, a, la, playa, es...   \n",
       "6813  [No, es, lo, mejor, pero, obligadamente, tenes...   \n",
       "5058  [Para, ser, la, principal, atracción, o, al, m...   \n",
       "7280  [La, catedral, ,, situada, en, la, plaza, prin...   \n",
       "\n",
       "                                                 words1  \\\n",
       "6115  [el, servicio, impecable, las, albercas, con, ...   \n",
       "6123  [cuando, vas, de, vacaciones, a, la, playa, es...   \n",
       "6813  [no, es, lo, mejor, pero, obligadamente, tenes...   \n",
       "5058  [para, ser, la, principal, atracción, o, al, m...   \n",
       "7280  [la, catedral, situada, en, la, plaza, princip...   \n",
       "\n",
       "                                                 words2  \n",
       "6115  [servicio, impecable, albercas, agua, templada...  \n",
       "6123  [vas, vacaciones, playa, esperas, poder, mar, ...  \n",
       "6813  [mejor, obligadamente, tenes, ir, tomarte, esc...  \n",
       "5058  [ser, principal, atracción, menos, ser, catalo...  \n",
       "7280  [catedral, situada, plaza, principal, vale, pe...  "
      ]
     },
     "execution_count": 24,
     "metadata": {},
     "output_type": "execute_result"
    }
   ],
   "source": [
    "df_procesado.head()"
   ]
  },
  {
   "cell_type": "markdown",
   "id": "572bcbfe-2e4d-4a6d-a4ea-afa15e9ddcf6",
   "metadata": {},
   "source": [
    "Debido a que con la tabla anterior no se logra ver bien el efecto de los distintos procesamientos, nos preguntamos: **¿Vale la pena los pasos de limpieza extra?**"
   ]
  },
  {
   "cell_type": "code",
   "execution_count": null,
   "id": "ab0a3790-889d-4527-a430-43d34e78de78",
   "metadata": {
    "id": "ab0a3790-889d-4527-a430-43d34e78de78",
    "outputId": "f98cb06a-181e-4c5c-fad3-cb858e3e1860"
   },
   "outputs": [
    {
     "data": {
      "text/plain": [
       "6251"
      ]
     },
     "execution_count": 25,
     "metadata": {},
     "output_type": "execute_result"
    }
   ],
   "source": [
    "#Veamos cuantas filas sirvio quitar stopwords\n",
    "cantidad = 0\n",
    "\n",
    "for i in df_procesado['words'].index:\n",
    "    longitud_con = len(df_procesado['words1'].loc[i])\n",
    "    longitud_sin = len(df_procesado['words2'].loc[i])\n",
    "    if longitud_con != longitud_sin:\n",
    "        cantidad = cantidad + 1\n",
    "\n",
    "cantidad"
   ]
  },
  {
   "cell_type": "markdown",
   "id": "a090d734-cfd9-4412-bb5d-886a1ea968bd",
   "metadata": {
    "id": "a090d734-cfd9-4412-bb5d-886a1ea968bd"
   },
   "source": [
    "En casi todas las filas se eliminaron stopwords, entonces vale la pena utilizar el preprocesamiento 2 construído anteriormente."
   ]
  },
  {
   "cell_type": "markdown",
   "id": "3573c29f-4cbd-45d4-b381-59c17b7d34d3",
   "metadata": {
    "id": "3573c29f-4cbd-45d4-b381-59c17b7d34d3"
   },
   "source": [
    "## **Normalizacion**"
   ]
  },
  {
   "cell_type": "code",
   "execution_count": null,
   "id": "85f45543-db16-42e2-8630-3b0dca8272f4",
   "metadata": {
    "id": "85f45543-db16-42e2-8630-3b0dca8272f4"
   },
   "outputs": [],
   "source": [
    "def stem_words(words):\n",
    "    \"\"\"Stem words in list of tokenized words\"\"\"\n",
    "    # Initialize SnowballStemmer for Spanish\n",
    "    stemmer = SnowballStemmer(language='spanish')\n",
    "    # Stem each word in the list\n",
    "    stemmed_words = [stemmer.stem(word) for word in words]\n",
    "    return stemmed_words\n",
    "\n",
    "\n",
    "def lemmatize_verbs(words):\n",
    "    \"\"\"Lemmatize verbs in list of tokenized words\"\"\"\n",
    "    lemmatizer = WordNetLemmatizer()\n",
    "    lemmas = []\n",
    "    for word in words:\n",
    "        lemma = lemmatizer.lemmatize(word, pos='v')\n",
    "        lemmas.append(lemma)\n",
    "    return lemmas\n",
    "\n",
    "def stem_and_lemmatize(words):\n",
    "    #stems = stem_words(words)\n",
    "    lemmas = lemmatize_verbs(words)\n",
    "#    return stems + lemmas\n",
    "    return lemmas"
   ]
  },
  {
   "cell_type": "code",
   "execution_count": null,
   "id": "7167cf85-814f-48d6-a938-575e7c69346a",
   "metadata": {
    "id": "7167cf85-814f-48d6-a938-575e7c69346a",
    "outputId": "f4074da3-f1f1-4aa4-95fb-1306ebedabf7",
    "scrolled": true
   },
   "outputs": [
    {
     "data": {
      "text/html": [
       "<div>\n",
       "<style scoped>\n",
       "    .dataframe tbody tr th:only-of-type {\n",
       "        vertical-align: middle;\n",
       "    }\n",
       "\n",
       "    .dataframe tbody tr th {\n",
       "        vertical-align: top;\n",
       "    }\n",
       "\n",
       "    .dataframe thead th {\n",
       "        text-align: right;\n",
       "    }\n",
       "</style>\n",
       "<table border=\"1\" class=\"dataframe\">\n",
       "  <thead>\n",
       "    <tr style=\"text-align: right;\">\n",
       "      <th></th>\n",
       "      <th>Review</th>\n",
       "      <th>Class</th>\n",
       "      <th>words</th>\n",
       "      <th>words1</th>\n",
       "      <th>words2</th>\n",
       "      <th>words3</th>\n",
       "    </tr>\n",
       "  </thead>\n",
       "  <tbody>\n",
       "    <tr>\n",
       "      <th>6115</th>\n",
       "      <td>El servicio impecable, las albercas con agua t...</td>\n",
       "      <td>4</td>\n",
       "      <td>[El, servicio, impecable, ,, las, albercas, co...</td>\n",
       "      <td>[el, servicio, impecable, las, albercas, con, ...</td>\n",
       "      <td>[servicio, impecable, albercas, agua, templada...</td>\n",
       "      <td>[servicio, impecable, albercas, agua, templada...</td>\n",
       "    </tr>\n",
       "    <tr>\n",
       "      <th>6123</th>\n",
       "      <td>Cuando vas de vacaciones a la playa esperas po...</td>\n",
       "      <td>2</td>\n",
       "      <td>[Cuando, vas, de, vacaciones, a, la, playa, es...</td>\n",
       "      <td>[cuando, vas, de, vacaciones, a, la, playa, es...</td>\n",
       "      <td>[vas, vacaciones, playa, esperas, poder, mar, ...</td>\n",
       "      <td>[vas, vacaciones, playa, esperas, poder, mar, ...</td>\n",
       "    </tr>\n",
       "    <tr>\n",
       "      <th>6813</th>\n",
       "      <td>No es lo mejor pero obligadamente tenes que ir...</td>\n",
       "      <td>4</td>\n",
       "      <td>[No, es, lo, mejor, pero, obligadamente, tenes...</td>\n",
       "      <td>[no, es, lo, mejor, pero, obligadamente, tenes...</td>\n",
       "      <td>[mejor, obligadamente, tenes, ir, tomarte, esc...</td>\n",
       "      <td>[mejor, obligadamente, tenes, ir, tomarte, esc...</td>\n",
       "    </tr>\n",
       "    <tr>\n",
       "      <th>5058</th>\n",
       "      <td>Para ser la principal atracción o al menos ser...</td>\n",
       "      <td>3</td>\n",
       "      <td>[Para, ser, la, principal, atracción, o, al, m...</td>\n",
       "      <td>[para, ser, la, principal, atracción, o, al, m...</td>\n",
       "      <td>[ser, principal, atracción, menos, ser, catalo...</td>\n",
       "      <td>[ser, principal, atracción, menos, ser, catalo...</td>\n",
       "    </tr>\n",
       "    <tr>\n",
       "      <th>7280</th>\n",
       "      <td>La catedral, situada en la plaza principal, va...</td>\n",
       "      <td>3</td>\n",
       "      <td>[La, catedral, ,, situada, en, la, plaza, prin...</td>\n",
       "      <td>[la, catedral, situada, en, la, plaza, princip...</td>\n",
       "      <td>[catedral, situada, plaza, principal, vale, pe...</td>\n",
       "      <td>[catedral, situada, plaza, principal, vale, pe...</td>\n",
       "    </tr>\n",
       "  </tbody>\n",
       "</table>\n",
       "</div>"
      ],
      "text/plain": [
       "                                                 Review  Class  \\\n",
       "6115  El servicio impecable, las albercas con agua t...      4   \n",
       "6123  Cuando vas de vacaciones a la playa esperas po...      2   \n",
       "6813  No es lo mejor pero obligadamente tenes que ir...      4   \n",
       "5058  Para ser la principal atracción o al menos ser...      3   \n",
       "7280  La catedral, situada en la plaza principal, va...      3   \n",
       "\n",
       "                                                  words  \\\n",
       "6115  [El, servicio, impecable, ,, las, albercas, co...   \n",
       "6123  [Cuando, vas, de, vacaciones, a, la, playa, es...   \n",
       "6813  [No, es, lo, mejor, pero, obligadamente, tenes...   \n",
       "5058  [Para, ser, la, principal, atracción, o, al, m...   \n",
       "7280  [La, catedral, ,, situada, en, la, plaza, prin...   \n",
       "\n",
       "                                                 words1  \\\n",
       "6115  [el, servicio, impecable, las, albercas, con, ...   \n",
       "6123  [cuando, vas, de, vacaciones, a, la, playa, es...   \n",
       "6813  [no, es, lo, mejor, pero, obligadamente, tenes...   \n",
       "5058  [para, ser, la, principal, atracción, o, al, m...   \n",
       "7280  [la, catedral, situada, en, la, plaza, princip...   \n",
       "\n",
       "                                                 words2  \\\n",
       "6115  [servicio, impecable, albercas, agua, templada...   \n",
       "6123  [vas, vacaciones, playa, esperas, poder, mar, ...   \n",
       "6813  [mejor, obligadamente, tenes, ir, tomarte, esc...   \n",
       "5058  [ser, principal, atracción, menos, ser, catalo...   \n",
       "7280  [catedral, situada, plaza, principal, vale, pe...   \n",
       "\n",
       "                                                 words3  \n",
       "6115  [servicio, impecable, albercas, agua, templada...  \n",
       "6123  [vas, vacaciones, playa, esperas, poder, mar, ...  \n",
       "6813  [mejor, obligadamente, tenes, ir, tomarte, esc...  \n",
       "5058  [ser, principal, atracción, menos, ser, catalo...  \n",
       "7280  [catedral, situada, plaza, principal, vale, pe...  "
      ]
     },
     "execution_count": 27,
     "metadata": {},
     "output_type": "execute_result"
    }
   ],
   "source": [
    "#Aplica lematización\n",
    "df_procesado['words3'] = df_procesado['words2'].apply(stem_and_lemmatize) \n",
    "df_procesado.head()"
   ]
  },
  {
   "cell_type": "markdown",
   "id": "16181930-ab14-4fb5-b84d-76b21b873847",
   "metadata": {},
   "source": [
    "**Nuevamente queremos averiguar si valio la pena la trasnformacion hecha.**"
   ]
  },
  {
   "cell_type": "code",
   "execution_count": null,
   "id": "1f414268-2f7c-4c02-9f30-2da6e3a83c45",
   "metadata": {
    "id": "1f414268-2f7c-4c02-9f30-2da6e3a83c45",
    "outputId": "6860684b-adfe-4f37-b194-c832769cece8"
   },
   "outputs": [
    {
     "data": {
      "text/plain": [
       "0"
      ]
     },
     "execution_count": 28,
     "metadata": {},
     "output_type": "execute_result"
    }
   ],
   "source": [
    "#Veamos cuantas filas sirvio usar lemas\n",
    "cantidad = 0\n",
    "\n",
    "for i in df_procesado['words'].index:\n",
    "    longitud_con = len(df_procesado['words2'].loc[i])\n",
    "    longitud_sin = len(df_procesado['words3'].loc[i])\n",
    "    if longitud_con != longitud_sin:\n",
    "        cantidad = cantidad + 1\n",
    "\n",
    "cantidad"
   ]
  },
  {
   "cell_type": "markdown",
   "id": "fb2c3c2b-1ed5-4eb1-8b13-707f8c07293e",
   "metadata": {
    "id": "fb2c3c2b-1ed5-4eb1-8b13-707f8c07293e"
   },
   "source": [
    "Usar lemas no fue de utilidad en este caso."
   ]
  },
  {
   "cell_type": "markdown",
   "id": "31fafed4-393e-49bd-8b55-f6a733e54145",
   "metadata": {
    "id": "31fafed4-393e-49bd-8b55-f6a733e54145"
   },
   "source": [
    "### Seleccion de campos"
   ]
  },
  {
   "cell_type": "code",
   "execution_count": null,
   "id": "4fbe4484-c5e1-4bf8-8ed3-4e623b8eb23c",
   "metadata": {
    "id": "4fbe4484-c5e1-4bf8-8ed3-4e623b8eb23c",
    "outputId": "3cbe8dcf-b97c-4232-ac3a-aa2687bd6c3b"
   },
   "outputs": [
    {
     "data": {
      "text/html": [
       "<div>\n",
       "<style scoped>\n",
       "    .dataframe tbody tr th:only-of-type {\n",
       "        vertical-align: middle;\n",
       "    }\n",
       "\n",
       "    .dataframe tbody tr th {\n",
       "        vertical-align: top;\n",
       "    }\n",
       "\n",
       "    .dataframe thead th {\n",
       "        text-align: right;\n",
       "    }\n",
       "</style>\n",
       "<table border=\"1\" class=\"dataframe\">\n",
       "  <thead>\n",
       "    <tr style=\"text-align: right;\">\n",
       "      <th></th>\n",
       "      <th>Review</th>\n",
       "      <th>Class</th>\n",
       "      <th>words</th>\n",
       "      <th>words1</th>\n",
       "      <th>words2</th>\n",
       "      <th>words3</th>\n",
       "    </tr>\n",
       "  </thead>\n",
       "  <tbody>\n",
       "    <tr>\n",
       "      <th>6115</th>\n",
       "      <td>El servicio impecable, las albercas con agua t...</td>\n",
       "      <td>4</td>\n",
       "      <td>[El, servicio, impecable, ,, las, albercas, co...</td>\n",
       "      <td>[el, servicio, impecable, las, albercas, con, ...</td>\n",
       "      <td>servicio impecable albercas agua templada comi...</td>\n",
       "      <td>[servicio, impecable, albercas, agua, templada...</td>\n",
       "    </tr>\n",
       "    <tr>\n",
       "      <th>6123</th>\n",
       "      <td>Cuando vas de vacaciones a la playa esperas po...</td>\n",
       "      <td>2</td>\n",
       "      <td>[Cuando, vas, de, vacaciones, a, la, playa, es...</td>\n",
       "      <td>[cuando, vas, de, vacaciones, a, la, playa, es...</td>\n",
       "      <td>vas vacaciones playa esperas poder mar si lleg...</td>\n",
       "      <td>[vas, vacaciones, playa, esperas, poder, mar, ...</td>\n",
       "    </tr>\n",
       "    <tr>\n",
       "      <th>6813</th>\n",
       "      <td>No es lo mejor pero obligadamente tenes que ir...</td>\n",
       "      <td>4</td>\n",
       "      <td>[No, es, lo, mejor, pero, obligadamente, tenes...</td>\n",
       "      <td>[no, es, lo, mejor, pero, obligadamente, tenes...</td>\n",
       "      <td>mejor obligadamente tenes ir tomarte escuchar ...</td>\n",
       "      <td>[mejor, obligadamente, tenes, ir, tomarte, esc...</td>\n",
       "    </tr>\n",
       "    <tr>\n",
       "      <th>5058</th>\n",
       "      <td>Para ser la principal atracción o al menos ser...</td>\n",
       "      <td>3</td>\n",
       "      <td>[Para, ser, la, principal, atracción, o, al, m...</td>\n",
       "      <td>[para, ser, la, principal, atracción, o, al, m...</td>\n",
       "      <td>ser principal atracción menos ser catalogada a...</td>\n",
       "      <td>[ser, principal, atracción, menos, ser, catalo...</td>\n",
       "    </tr>\n",
       "    <tr>\n",
       "      <th>7280</th>\n",
       "      <td>La catedral, situada en la plaza principal, va...</td>\n",
       "      <td>3</td>\n",
       "      <td>[La, catedral, ,, situada, en, la, plaza, prin...</td>\n",
       "      <td>[la, catedral, situada, en, la, plaza, princip...</td>\n",
       "      <td>catedral situada plaza principal vale pena pas...</td>\n",
       "      <td>[catedral, situada, plaza, principal, vale, pe...</td>\n",
       "    </tr>\n",
       "    <tr>\n",
       "      <th>...</th>\n",
       "      <td>...</td>\n",
       "      <td>...</td>\n",
       "      <td>...</td>\n",
       "      <td>...</td>\n",
       "      <td>...</td>\n",
       "      <td>...</td>\n",
       "    </tr>\n",
       "    <tr>\n",
       "      <th>4931</th>\n",
       "      <td>Muy delicioso, excelente atención, buen servic...</td>\n",
       "      <td>4</td>\n",
       "      <td>[Muy, delicioso, ,, excelente, atención, ,, bu...</td>\n",
       "      <td>[muy, delicioso, excelente, atención, buen, se...</td>\n",
       "      <td>delicioso excelente atención buen servicio sir...</td>\n",
       "      <td>[delicioso, excelente, atención, buen, servici...</td>\n",
       "    </tr>\n",
       "    <tr>\n",
       "      <th>3264</th>\n",
       "      <td>muchísimo calorrrrrrrr....realmente agobiante....</td>\n",
       "      <td>4</td>\n",
       "      <td>[muchísimo, calorrrrrrrr, ...., realmente, ago...</td>\n",
       "      <td>[muchísimo, calorrrrrrrr, realmente, agobiante...</td>\n",
       "      <td>muchísimo calorrrrrrrr realmente agobiante val...</td>\n",
       "      <td>[muchísimo, calorrrrrrrr, realmente, agobiante...</td>\n",
       "    </tr>\n",
       "    <tr>\n",
       "      <th>1653</th>\n",
       "      <td>Ubicado muy cerca de la ciudad amurallada por ...</td>\n",
       "      <td>5</td>\n",
       "      <td>[Ubicado, muy, cerca, de, la, ciudad, amuralla...</td>\n",
       "      <td>[ubicado, muy, cerca, de, la, ciudad, amuralla...</td>\n",
       "      <td>ubicado cerca ciudad amurallada dolares taxi d...</td>\n",
       "      <td>[ubicado, cerca, ciudad, amurallada, dolares, ...</td>\n",
       "    </tr>\n",
       "    <tr>\n",
       "      <th>2607</th>\n",
       "      <td>Una exposición de la comida Regiomontana moder...</td>\n",
       "      <td>5</td>\n",
       "      <td>[Una, exposición, de, la, comida, Regiomontana...</td>\n",
       "      <td>[una, exposición, de, la, comida, regiomontana...</td>\n",
       "      <td>exposición comida regiomontana modernizada pro...</td>\n",
       "      <td>[exposición, comida, regiomontana, modernizada...</td>\n",
       "    </tr>\n",
       "    <tr>\n",
       "      <th>2732</th>\n",
       "      <td>Que fuimos a donde celebrar nuestro aniversari...</td>\n",
       "      <td>5</td>\n",
       "      <td>[Que, fuimos, a, donde, celebrar, nuestro, ani...</td>\n",
       "      <td>[que, fuimos, a, donde, celebrar, nuestro, ani...</td>\n",
       "      <td>celebrar aniversario podía imaginar lugar herm...</td>\n",
       "      <td>[celebrar, aniversario, podía, imaginar, lugar...</td>\n",
       "    </tr>\n",
       "  </tbody>\n",
       "</table>\n",
       "<p>6254 rows × 6 columns</p>\n",
       "</div>"
      ],
      "text/plain": [
       "                                                 Review  Class  \\\n",
       "6115  El servicio impecable, las albercas con agua t...      4   \n",
       "6123  Cuando vas de vacaciones a la playa esperas po...      2   \n",
       "6813  No es lo mejor pero obligadamente tenes que ir...      4   \n",
       "5058  Para ser la principal atracción o al menos ser...      3   \n",
       "7280  La catedral, situada en la plaza principal, va...      3   \n",
       "...                                                 ...    ...   \n",
       "4931  Muy delicioso, excelente atención, buen servic...      4   \n",
       "3264  muchísimo calorrrrrrrr....realmente agobiante....      4   \n",
       "1653  Ubicado muy cerca de la ciudad amurallada por ...      5   \n",
       "2607  Una exposición de la comida Regiomontana moder...      5   \n",
       "2732  Que fuimos a donde celebrar nuestro aniversari...      5   \n",
       "\n",
       "                                                  words  \\\n",
       "6115  [El, servicio, impecable, ,, las, albercas, co...   \n",
       "6123  [Cuando, vas, de, vacaciones, a, la, playa, es...   \n",
       "6813  [No, es, lo, mejor, pero, obligadamente, tenes...   \n",
       "5058  [Para, ser, la, principal, atracción, o, al, m...   \n",
       "7280  [La, catedral, ,, situada, en, la, plaza, prin...   \n",
       "...                                                 ...   \n",
       "4931  [Muy, delicioso, ,, excelente, atención, ,, bu...   \n",
       "3264  [muchísimo, calorrrrrrrr, ...., realmente, ago...   \n",
       "1653  [Ubicado, muy, cerca, de, la, ciudad, amuralla...   \n",
       "2607  [Una, exposición, de, la, comida, Regiomontana...   \n",
       "2732  [Que, fuimos, a, donde, celebrar, nuestro, ani...   \n",
       "\n",
       "                                                 words1  \\\n",
       "6115  [el, servicio, impecable, las, albercas, con, ...   \n",
       "6123  [cuando, vas, de, vacaciones, a, la, playa, es...   \n",
       "6813  [no, es, lo, mejor, pero, obligadamente, tenes...   \n",
       "5058  [para, ser, la, principal, atracción, o, al, m...   \n",
       "7280  [la, catedral, situada, en, la, plaza, princip...   \n",
       "...                                                 ...   \n",
       "4931  [muy, delicioso, excelente, atención, buen, se...   \n",
       "3264  [muchísimo, calorrrrrrrr, realmente, agobiante...   \n",
       "1653  [ubicado, muy, cerca, de, la, ciudad, amuralla...   \n",
       "2607  [una, exposición, de, la, comida, regiomontana...   \n",
       "2732  [que, fuimos, a, donde, celebrar, nuestro, ani...   \n",
       "\n",
       "                                                 words2  \\\n",
       "6115  servicio impecable albercas agua templada comi...   \n",
       "6123  vas vacaciones playa esperas poder mar si lleg...   \n",
       "6813  mejor obligadamente tenes ir tomarte escuchar ...   \n",
       "5058  ser principal atracción menos ser catalogada a...   \n",
       "7280  catedral situada plaza principal vale pena pas...   \n",
       "...                                                 ...   \n",
       "4931  delicioso excelente atención buen servicio sir...   \n",
       "3264  muchísimo calorrrrrrrr realmente agobiante val...   \n",
       "1653  ubicado cerca ciudad amurallada dolares taxi d...   \n",
       "2607  exposición comida regiomontana modernizada pro...   \n",
       "2732  celebrar aniversario podía imaginar lugar herm...   \n",
       "\n",
       "                                                 words3  \n",
       "6115  [servicio, impecable, albercas, agua, templada...  \n",
       "6123  [vas, vacaciones, playa, esperas, poder, mar, ...  \n",
       "6813  [mejor, obligadamente, tenes, ir, tomarte, esc...  \n",
       "5058  [ser, principal, atracción, menos, ser, catalo...  \n",
       "7280  [catedral, situada, plaza, principal, vale, pe...  \n",
       "...                                                 ...  \n",
       "4931  [delicioso, excelente, atención, buen, servici...  \n",
       "3264  [muchísimo, calorrrrrrrr, realmente, agobiante...  \n",
       "1653  [ubicado, cerca, ciudad, amurallada, dolares, ...  \n",
       "2607  [exposición, comida, regiomontana, modernizada...  \n",
       "2732  [celebrar, aniversario, podía, imaginar, lugar...  \n",
       "\n",
       "[6254 rows x 6 columns]"
      ]
     },
     "execution_count": 29,
     "metadata": {},
     "output_type": "execute_result"
    }
   ],
   "source": [
    "df_procesado['words2'] = df_procesado['words2'].apply(lambda x: ' '.join(map(str, x)))\n",
    "df_procesado"
   ]
  },
  {
   "cell_type": "markdown",
   "id": "ce08c19a-6db4-4b49-a996-1ddb1ff8326c",
   "metadata": {},
   "source": [
    "Procedemos a hacer la separacion de los datos en X y en Y"
   ]
  },
  {
   "cell_type": "code",
   "execution_count": null,
   "id": "3bacd1e1-c2a6-46aa-b44d-8583add46f0f",
   "metadata": {
    "id": "3bacd1e1-c2a6-46aa-b44d-8583add46f0f",
    "outputId": "bd4403d6-b6d9-4455-cfb7-9885876b5390"
   },
   "outputs": [
    {
     "data": {
      "text/plain": [
       "6115    4\n",
       "6123    2\n",
       "6813    4\n",
       "5058    3\n",
       "7280    3\n",
       "       ..\n",
       "4931    4\n",
       "3264    4\n",
       "1653    5\n",
       "2607    5\n",
       "2732    5\n",
       "Name: Class, Length: 6254, dtype: int64"
      ]
     },
     "execution_count": 30,
     "metadata": {},
     "output_type": "execute_result"
    }
   ],
   "source": [
    "X_data, y_data = df_procesado['words2'],df_procesado['Class']\n",
    "y_data"
   ]
  },
  {
   "cell_type": "markdown",
   "id": "6b9e27c0-4a59-42dc-a614-20a4a05311bf",
   "metadata": {},
   "source": [
    "Primero creamos la primera version de los datos en representacion de BoW"
   ]
  },
  {
   "cell_type": "code",
   "execution_count": null,
   "id": "60a7e99e-4925-4768-97a9-81910460c17f",
   "metadata": {
    "id": "60a7e99e-4925-4768-97a9-81910460c17f"
   },
   "outputs": [],
   "source": [
    "# Creamos el contador\n",
    "count = CountVectorizer()\n",
    "\n",
    "# Creamos la bolsa de palabras\n",
    "X_count = count.fit_transform(X_data)\n",
    "\n",
    "# Sacamos los nombres de las columnas\n",
    "feature_names = count.get_feature_names_out()\n"
   ]
  },
  {
   "cell_type": "markdown",
   "id": "20131b96-ebe2-4692-b819-4e90e3289245",
   "metadata": {
    "id": "20131b96-ebe2-4692-b819-4e90e3289245"
   },
   "source": [
    "### Exportamos"
   ]
  },
  {
   "cell_type": "code",
   "execution_count": null,
   "id": "2ccad0fc-2797-4b26-8621-8647f03644b0",
   "metadata": {
    "id": "2ccad0fc-2797-4b26-8621-8647f03644b0",
    "outputId": "09756ecc-6e52-426e-f67e-7dc310aece89"
   },
   "outputs": [
    {
     "data": {
      "text/plain": [
       "(6254, 23158)"
      ]
     },
     "execution_count": 32,
     "metadata": {},
     "output_type": "execute_result"
    }
   ],
   "source": [
    "#Exportamos X\n",
    "# Create DataFrame from transformed data\n",
    "df_x = pd.DataFrame(X_count.toarray(), columns=feature_names)\n",
    "df_x.shape"
   ]
  },
  {
   "cell_type": "code",
   "execution_count": null,
   "id": "6ed59389-de20-4646-9d6f-9bd0a5060e91",
   "metadata": {
    "id": "6ed59389-de20-4646-9d6f-9bd0a5060e91"
   },
   "outputs": [],
   "source": [
    "#Esta es la version del DF con todo lo que lanza el prepocesamiento normal\n",
    "#df_x.to_csv('./../../DatosProcesados/X_train_V1.csv', index=False)"
   ]
  },
  {
   "cell_type": "markdown",
   "id": "30ed18d7-4228-448a-af0c-7e3abe518704",
   "metadata": {
    "id": "30ed18d7-4228-448a-af0c-7e3abe518704"
   },
   "source": [
    "**Problema**: Se ve que hay casi 4 veces mas columnas que datos, es un signo claro de muy alta dimensionalidad.\n",
    "\n",
    "**Soluciona**: Vamos a eliminar aquellas columnas que correspondan a palabras con una sola aparición, debido a la baja relevancia que pueden tener dentro del modelo."
   ]
  },
  {
   "cell_type": "code",
   "execution_count": null,
   "id": "b1db1648-af83-4312-a152-5bef439c872a",
   "metadata": {
    "id": "b1db1648-af83-4312-a152-5bef439c872a",
    "outputId": "22fc69c8-470f-4abb-9cd2-01998e0ac845"
   },
   "outputs": [
    {
     "data": {
      "text/plain": [
       "10692"
      ]
     },
     "execution_count": 34,
     "metadata": {},
     "output_type": "execute_result"
    }
   ],
   "source": [
    "#Sacamos la lista de los features (palabras con mas de 1 aparición)\n",
    "utiles = []\n",
    "for feature in feature_names:\n",
    "    cuenta_mayores = (df_x[feature] != 0).sum()\n",
    "    if cuenta_mayores > 1:\n",
    "        utiles.append(feature)\n",
    "\n",
    "len(utiles)"
   ]
  },
  {
   "cell_type": "markdown",
   "id": "115ec256-6460-47c7-a6d5-5247d93fc239",
   "metadata": {},
   "source": [
    "Ahora tenemos muchas menos palabras para considerar, lo que puede llegar a mejorar el desempeño de algunos algoritmos. A prtir de esto ya se puede hacer la exportacion de X,Y train y las transformaciones para test y unlabeled data"
   ]
  },
  {
   "cell_type": "code",
   "execution_count": null,
   "id": "dfab1a3c-7af3-4c74-bf54-d86c78b09d2e",
   "metadata": {
    "id": "dfab1a3c-7af3-4c74-bf54-d86c78b09d2e"
   },
   "outputs": [],
   "source": [
    "df_x_v2 = df_x[utiles].copy()\n",
    "#df_x_v2.to_csv('./../../DatosProcesados/X_train_V3.csv', index=False)"
   ]
  },
  {
   "cell_type": "code",
   "execution_count": null,
   "id": "b41d40c7-3fb8-4060-9d41-e8a6463ab666",
   "metadata": {
    "id": "b41d40c7-3fb8-4060-9d41-e8a6463ab666"
   },
   "outputs": [],
   "source": [
    "#Exportamos Y\n",
    "df_y = pd.DataFrame({'Class': y_data})\n",
    "\n",
    "# Export the DataFrame to a CSV file\n",
    "df_y.to_csv('./../../DatosProcesados/Entrenamiento/Y_train_V1.csv', index=False)"
   ]
  },
  {
   "cell_type": "markdown",
   "id": "f2b285e5-4e3b-435a-bddb-a83bbeb0f372",
   "metadata": {
    "id": "f2b285e5-4e3b-435a-bddb-a83bbeb0f372"
   },
   "source": [
    "Aplicamos las mismas transformaciones a validation"
   ]
  },
  {
   "cell_type": "code",
   "execution_count": null,
   "id": "912cd5a4-0246-4288-8835-dacc15be37e0",
   "metadata": {
    "id": "912cd5a4-0246-4288-8835-dacc15be37e0"
   },
   "outputs": [],
   "source": [
    "val_procesado = data_v.copy()\n",
    "val_procesado['Review'] = val_procesado['Review'].apply(contractions.fix)\n",
    "#Tokens\n",
    "val_procesado['words'] = val_procesado['Review'].apply(word_tokenize)\n",
    "val_procesado['words1']=val_procesado['words'].apply(preprocessing2)\n",
    "val_procesado['words1'] = val_procesado['words1'].apply(lambda x: ' '.join(map(str, x)))\n",
    "X_data_v, y_data_v = val_procesado['words1'],val_procesado['Class']"
   ]
  },
  {
   "cell_type": "code",
   "execution_count": null,
   "id": "7ae7b9d8-bf8f-4c32-afda-3e48946239bb",
   "metadata": {
    "id": "7ae7b9d8-bf8f-4c32-afda-3e48946239bb",
    "outputId": "8ba722be-f638-451d-c92d-6ba3db8ccd1d"
   },
   "outputs": [
    {
     "data": {
      "text/plain": [
       "(1575, 23158)"
      ]
     },
     "execution_count": 38,
     "metadata": {},
     "output_type": "execute_result"
    }
   ],
   "source": [
    "#Ajustamos X data a la matriz otra\n",
    "X_v_count = count.transform(X_data_v)\n",
    "X_v_count.shape"
   ]
  },
  {
   "cell_type": "code",
   "execution_count": null,
   "id": "cc0cbb07-04e6-4a04-9ac1-d79dbd350e12",
   "metadata": {
    "id": "cc0cbb07-04e6-4a04-9ac1-d79dbd350e12"
   },
   "outputs": [],
   "source": [
    "#Esta matriz todavia tiene todas las variables iniciales, entonces creamos el df con todas\n",
    "df_x_val = pd.DataFrame(X_v_count.toarray(), columns=feature_names)\n",
    "\n",
    "#Ahora solo utilizamos las columnas anteriores\n",
    "df_x_val_v1 = df_x_val[utiles].copy()"
   ]
  },
  {
   "cell_type": "code",
   "execution_count": null,
   "id": "dce31ca9-02ad-4d21-8d72-1c7daa398c15",
   "metadata": {
    "id": "dce31ca9-02ad-4d21-8d72-1c7daa398c15"
   },
   "outputs": [],
   "source": [
    "#Exportamos x_validation, y_validation\n",
    "#Exportamos Y\n",
    "df_y_val = pd.DataFrame({'Class': y_data_v})\n",
    "df_y_val.to_csv('./../../DatosProcesados/ValidationTest/Y_validation_V1.csv', index=False)\n",
    "\n",
    "#Exportamos X\n",
    "df_x_val_v1.to_csv('./../../DatosProcesados/ValidationTest/X_validation_V1.csv', index=False)"
   ]
  },
  {
   "cell_type": "code",
   "execution_count": null,
   "id": "f4aeb004-0f20-46f0-84e0-00a1e4e89ab5",
   "metadata": {
    "id": "f4aeb004-0f20-46f0-84e0-00a1e4e89ab5"
   },
   "outputs": [],
   "source": [
    "#Ahora podemos hacer lo mismo para los datos unlabeled\n",
    "unlabeled_df = pd.read_csv('./../../DatosBrutos/particion_prueba_estudiantes.csv', sep=',', encoding = 'utf-8')\n",
    "unlabedled_procesado = unlabeled_df.copy()\n",
    "unlabedled_procesado['Review'] = unlabedled_procesado['Review'].apply(contractions.fix)\n",
    "#Tokens\n",
    "unlabedled_procesado['words'] = unlabedled_procesado['Review'].apply(word_tokenize)\n",
    "unlabedled_procesado['words1']=unlabedled_procesado['words'].apply(preprocessing2)\n",
    "unlabedled_procesado['words1'] = unlabedled_procesado['words1'].apply(lambda x: ' '.join(map(str, x)))\n",
    "X_data_unlabeled = unlabedled_procesado['words1']"
   ]
  },
  {
   "cell_type": "code",
   "execution_count": null,
   "id": "5b1dc3a0-4085-4ade-b08c-05b807bc6401",
   "metadata": {
    "id": "5b1dc3a0-4085-4ade-b08c-05b807bc6401",
    "outputId": "1e62195b-db7d-429f-fab8-3264894a6753"
   },
   "outputs": [
    {
     "data": {
      "text/plain": [
       "(1750, 23158)"
      ]
     },
     "execution_count": 48,
     "metadata": {},
     "output_type": "execute_result"
    }
   ],
   "source": [
    "#Ajustamos X data a la matriz otra\n",
    "X_unlabeled = count.transform(X_data_unlabeled)\n",
    "X_unlabeled.shape"
   ]
  },
  {
   "cell_type": "code",
   "execution_count": null,
   "id": "9cb919ab-ae31-4e77-93fb-0f711c1995ca",
   "metadata": {
    "id": "9cb919ab-ae31-4e77-93fb-0f711c1995ca"
   },
   "outputs": [],
   "source": [
    "#Esta matriz todavia tiene todas las variables iniciales, entonces creamos el df con todas\n",
    "df_x_unlabeled = pd.DataFrame(X_unlabeled.toarray(), columns=feature_names)\n",
    "\n",
    "#Ahora solo utilizamos las columnas anteriores\n",
    "df_un_v1 = df_x_unlabeled[utiles].copy()"
   ]
  },
  {
   "cell_type": "code",
   "execution_count": null,
   "id": "9d413576-a62c-4c4b-9bab-9195ef68cc70",
   "metadata": {
    "id": "9d413576-a62c-4c4b-9bab-9195ef68cc70"
   },
   "outputs": [],
   "source": [
    "#Exportamos X_unlabeled\n",
    "df_un_v1.to_csv('./../../DatosProcesados/Unlabeled/X_unlabeled_V1.csv', index=False)"
   ]
  }
 ],
 "metadata": {
  "colab": {
   "provenance": []
  },
  "kernelspec": {
   "display_name": "Python 3 (ipykernel)",
   "language": "python",
   "name": "python3"
  },
  "language_info": {
   "codemirror_mode": {
    "name": "ipython",
    "version": 3
   },
   "file_extension": ".py",
   "mimetype": "text/x-python",
   "name": "python",
   "nbconvert_exporter": "python",
   "pygments_lexer": "ipython3",
   "version": "3.11.7"
  }
 },
 "nbformat": 4,
 "nbformat_minor": 5
}
