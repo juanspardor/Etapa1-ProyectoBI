{
 "cells": [
  {
   "cell_type": "markdown",
   "id": "1e635ef4-539d-45b7-8860-b4a528909471",
   "metadata": {},
   "source": [
    "Dependencias"
   ]
  },
  {
   "cell_type": "code",
   "execution_count": 1,
   "id": "96ee9031-7a30-4e0a-898a-d2345aba157d",
   "metadata": {},
   "outputs": [
    {
     "name": "stderr",
     "output_type": "stream",
     "text": [
      "[nltk_data] Downloading package punkt to /Users/juanse/nltk_data...\n",
      "[nltk_data]   Package punkt is already up-to-date!\n",
      "[nltk_data] Downloading package stopwords to\n",
      "[nltk_data]     /Users/juanse/nltk_data...\n",
      "[nltk_data]   Package stopwords is already up-to-date!\n",
      "[nltk_data] Downloading package wordnet to /Users/juanse/nltk_data...\n",
      "[nltk_data]   Package wordnet is already up-to-date!\n"
     ]
    },
    {
     "data": {
      "text/plain": [
       "True"
      ]
     },
     "execution_count": 1,
     "metadata": {},
     "output_type": "execute_result"
    }
   ],
   "source": [
    " # librería Natural Language Toolkit, usada para trabajar con textos\n",
    "import nltk\n",
    "# Punkt permite separar un texto en frases.\n",
    "nltk.download('punkt')\n",
    "nltk.download('stopwords')\n",
    "nltk.download('wordnet')"
   ]
  },
  {
   "cell_type": "code",
   "execution_count": 2,
   "id": "cdd32286-3cfe-4374-86db-59dd01b58378",
   "metadata": {},
   "outputs": [],
   "source": [
    "# Instalación de librerias\n",
    "import pandas as pd\n",
    "import numpy as np\n",
    "import sys\n",
    "\n",
    "import re, string, unicodedata\n",
    "import contractions\n",
    "import inflect\n",
    "from nltk import word_tokenize, sent_tokenize\n",
    "from nltk.corpus import stopwords\n",
    "from nltk.stem import LancasterStemmer, WordNetLemmatizer\n",
    "\n",
    "from sklearn.model_selection import train_test_split,GridSearchCV\n",
    "from sklearn.feature_extraction.text import TfidfVectorizer, CountVectorizer, HashingVectorizer\n",
    "from sklearn.pipeline import Pipeline, FeatureUnion\n",
    "from sklearn.svm import SVC\n",
    "from sklearn.ensemble import BaggingClassifier, RandomForestClassifier, AdaBoostClassifier\n",
    "from sklearn.naive_bayes import BernoulliNB\n",
    "from sklearn.metrics import classification_report, confusion_matrix\n",
    "\n",
    "from scipy import stats as st\n",
    "\n",
    "from nltk.stem import SnowballStemmer\n",
    "\n",
    "from statistics import mode\n",
    "\n",
    "from sklearn.base import BaseEstimator, ClassifierMixin\n",
    "\n",
    "import matplotlib.pyplot as plt\n",
    "import re"
   ]
  },
  {
   "cell_type": "markdown",
   "id": "48da1aca-57b4-4ab7-b69c-4e13b3584900",
   "metadata": {},
   "source": [
    "Cargamos los datos"
   ]
  },
  {
   "cell_type": "code",
   "execution_count": 3,
   "id": "23174f15-07db-4443-8b79-45d46bd37c61",
   "metadata": {},
   "outputs": [
    {
     "data": {
      "text/plain": [
       "'/Users/juanse/Documents/BI/Proyectos/Etapa1/Notebooks/Preprocesamiento'"
      ]
     },
     "execution_count": 3,
     "metadata": {},
     "output_type": "execute_result"
    }
   ],
   "source": [
    "import os\n",
    "\n",
    "current_directory = os.getcwd()\n",
    "current_directory"
   ]
  },
  {
   "cell_type": "code",
   "execution_count": 4,
   "id": "61177656-f467-4d12-8149-cd09ae06606e",
   "metadata": {},
   "outputs": [],
   "source": [
    "ruta = \"./../../DatosBrutos/tipo2_entrenamiento_estudiantes.csv\""
   ]
  },
  {
   "cell_type": "code",
   "execution_count": 5,
   "id": "de058042-c904-44ef-8265-7e84fe4aa441",
   "metadata": {},
   "outputs": [],
   "source": [
    "data=pd.read_csv(ruta, sep=',', encoding = 'utf-8')\n",
    "# Asignación a una nueva variable de los datos leidos\n",
    "data_t=data"
   ]
  },
  {
   "cell_type": "code",
   "execution_count": 6,
   "id": "809c8c38-0d6f-4c45-a2ac-a4e395b0f103",
   "metadata": {},
   "outputs": [
    {
     "data": {
      "text/html": [
       "<div>\n",
       "<style scoped>\n",
       "    .dataframe tbody tr th:only-of-type {\n",
       "        vertical-align: middle;\n",
       "    }\n",
       "\n",
       "    .dataframe tbody tr th {\n",
       "        vertical-align: top;\n",
       "    }\n",
       "\n",
       "    .dataframe thead th {\n",
       "        text-align: right;\n",
       "    }\n",
       "</style>\n",
       "<table border=\"1\" class=\"dataframe\">\n",
       "  <thead>\n",
       "    <tr style=\"text-align: right;\">\n",
       "      <th></th>\n",
       "      <th>Review</th>\n",
       "      <th>Class</th>\n",
       "    </tr>\n",
       "  </thead>\n",
       "  <tbody>\n",
       "    <tr>\n",
       "      <th>0</th>\n",
       "      <td>Muy buena atención y aclaración de dudas por p...</td>\n",
       "      <td>5</td>\n",
       "    </tr>\n",
       "    <tr>\n",
       "      <th>1</th>\n",
       "      <td>Buen hotel si están obligados a estar cerca de...</td>\n",
       "      <td>3</td>\n",
       "    </tr>\n",
       "    <tr>\n",
       "      <th>2</th>\n",
       "      <td>Es un lugar muy lindo para fotografías, visite...</td>\n",
       "      <td>5</td>\n",
       "    </tr>\n",
       "    <tr>\n",
       "      <th>3</th>\n",
       "      <td>Abusados con la factura de alimentos siempre s...</td>\n",
       "      <td>3</td>\n",
       "    </tr>\n",
       "    <tr>\n",
       "      <th>4</th>\n",
       "      <td>Tuvimos un par de personas en el grupo que rea...</td>\n",
       "      <td>3</td>\n",
       "    </tr>\n",
       "    <tr>\n",
       "      <th>...</th>\n",
       "      <td>...</td>\n",
       "      <td>...</td>\n",
       "    </tr>\n",
       "    <tr>\n",
       "      <th>7870</th>\n",
       "      <td>Me parece buen sistema, agiliza el transporte,...</td>\n",
       "      <td>4</td>\n",
       "    </tr>\n",
       "    <tr>\n",
       "      <th>7871</th>\n",
       "      <td>Fue una escapada de un día desde el complejo, ...</td>\n",
       "      <td>4</td>\n",
       "    </tr>\n",
       "    <tr>\n",
       "      <th>7872</th>\n",
       "      <td>La Plaza de la Revolución es un lugar emblemát...</td>\n",
       "      <td>3</td>\n",
       "    </tr>\n",
       "    <tr>\n",
       "      <th>7873</th>\n",
       "      <td>Es la segunda ocasión que me quedo en los cuar...</td>\n",
       "      <td>1</td>\n",
       "    </tr>\n",
       "    <tr>\n",
       "      <th>7874</th>\n",
       "      <td>Llegamos por casualidad a Los Mercaderes, un g...</td>\n",
       "      <td>5</td>\n",
       "    </tr>\n",
       "  </tbody>\n",
       "</table>\n",
       "<p>7875 rows × 2 columns</p>\n",
       "</div>"
      ],
      "text/plain": [
       "                                                 Review  Class\n",
       "0     Muy buena atención y aclaración de dudas por p...      5\n",
       "1     Buen hotel si están obligados a estar cerca de...      3\n",
       "2     Es un lugar muy lindo para fotografías, visite...      5\n",
       "3     Abusados con la factura de alimentos siempre s...      3\n",
       "4     Tuvimos un par de personas en el grupo que rea...      3\n",
       "...                                                 ...    ...\n",
       "7870  Me parece buen sistema, agiliza el transporte,...      4\n",
       "7871  Fue una escapada de un día desde el complejo, ...      4\n",
       "7872  La Plaza de la Revolución es un lugar emblemát...      3\n",
       "7873  Es la segunda ocasión que me quedo en los cuar...      1\n",
       "7874  Llegamos por casualidad a Los Mercaderes, un g...      5\n",
       "\n",
       "[7875 rows x 2 columns]"
      ]
     },
     "execution_count": 6,
     "metadata": {},
     "output_type": "execute_result"
    }
   ],
   "source": [
    "data_t"
   ]
  },
  {
   "cell_type": "markdown",
   "id": "32155a57-0f83-450a-b522-f826f0cb45b8",
   "metadata": {},
   "source": [
    "# Entendimiento"
   ]
  },
  {
   "cell_type": "code",
   "execution_count": 7,
   "id": "33f7e94c-2345-433a-8ae1-54eacf6ee818",
   "metadata": {},
   "outputs": [
    {
     "data": {
      "text/plain": [
       "(7875, 2)"
      ]
     },
     "execution_count": 7,
     "metadata": {},
     "output_type": "execute_result"
    }
   ],
   "source": [
    "#Dimensiones\n",
    "data_t.shape"
   ]
  },
  {
   "cell_type": "markdown",
   "id": "a5901e0c-7ba1-4884-8835-ed1621288605",
   "metadata": {},
   "source": [
    "Hay 7875 datos con 1 variable (el texto bruto)"
   ]
  },
  {
   "cell_type": "markdown",
   "id": "0d32d70a-4b7e-4d25-b705-bd4bf2c02a49",
   "metadata": {},
   "source": [
    "## Unicidad"
   ]
  },
  {
   "cell_type": "code",
   "execution_count": 8,
   "id": "cf3e008a-92ff-46c5-8098-61bdf6579149",
   "metadata": {},
   "outputs": [
    {
     "data": {
      "text/plain": [
       "102"
      ]
     },
     "execution_count": 8,
     "metadata": {},
     "output_type": "execute_result"
    }
   ],
   "source": [
    "#Veamos el numero de datos repetidos\n",
    "data_t.duplicated(keep = False).sum()"
   ]
  },
  {
   "cell_type": "markdown",
   "id": "0b83255b-3ca3-4431-93f9-6a73e0e73cdf",
   "metadata": {},
   "source": [
    "Hay problemas de unicidad, ya que hay 102 datos duplicados"
   ]
  },
  {
   "cell_type": "markdown",
   "id": "468c40b6-1a53-4108-bfaa-aa1a66b04cb9",
   "metadata": {},
   "source": [
    "## Completitud"
   ]
  },
  {
   "cell_type": "code",
   "execution_count": 9,
   "id": "aa83cb09-6a3f-4f8d-92af-96cdeba0f8a9",
   "metadata": {},
   "outputs": [
    {
     "data": {
      "text/plain": [
       "Review    0.0\n",
       "Class     0.0\n",
       "dtype: float64"
      ]
     },
     "execution_count": 9,
     "metadata": {},
     "output_type": "execute_result"
    }
   ],
   "source": [
    "#Veamos cuantos datos faltantes hay\n",
    "data_t.isna().sum() / data_t.shape[0]"
   ]
  },
  {
   "cell_type": "markdown",
   "id": "c50e26f3-a26d-4ae0-9a70-c2398449cd42",
   "metadata": {},
   "source": [
    "No hay problemas de completitud -> 0 datos faltantes"
   ]
  },
  {
   "cell_type": "markdown",
   "id": "d758fa32-1561-45c6-8808-8634976a7c48",
   "metadata": {},
   "source": [
    "## Consistencia"
   ]
  },
  {
   "cell_type": "code",
   "execution_count": 10,
   "id": "f59d1ed4-684a-428a-a54d-c221acfe38ac",
   "metadata": {},
   "outputs": [
    {
     "data": {
      "text/plain": [
       "Class\n",
       "5    2361\n",
       "4    1977\n",
       "3    1574\n",
       "2    1185\n",
       "1     778\n",
       "Name: count, dtype: int64"
      ]
     },
     "execution_count": 10,
     "metadata": {},
     "output_type": "execute_result"
    }
   ],
   "source": [
    "#Solo toca revisar que no haya ninguna calificacion que no este entre 1-5\n",
    "data_t.value_counts(data_t['Class'])"
   ]
  },
  {
   "cell_type": "markdown",
   "id": "a522b978-a4af-4141-8e82-8bbf5bb68bbb",
   "metadata": {},
   "source": [
    "Todo bien por aca"
   ]
  },
  {
   "cell_type": "markdown",
   "id": "d88f65da-ca1c-4fb8-961d-c47a184f7d4a",
   "metadata": {},
   "source": [
    "## Conocer un poco mas los datos"
   ]
  },
  {
   "cell_type": "code",
   "execution_count": 11,
   "id": "f5d3b9b6-7e96-4140-9061-ae3601ed3593",
   "metadata": {},
   "outputs": [
    {
     "data": {
      "image/png": "[encoded data removed]",
      "text/plain": [
       "<Figure size 800x800 with 1 Axes>"
      ]
     },
     "metadata": {},
     "output_type": "display_data"
    }
   ],
   "source": [
    "#Veamos la distribucion de las clasificaciones\n",
    "# Plotting the pie chart\n",
    "value_counts = data_t.value_counts(data_t['Class'])\n",
    "plt.figure(figsize=(8, 8))\n",
    "plt.pie(value_counts, labels=value_counts.index, autopct='%1.1f%%', startangle=140)\n",
    "plt.title('Distribucion de las clasificaciones')\n",
    "plt.axis('equal')  # Equal aspect ratio ensures that pie is drawn as a circle.\n",
    "plt.show()"
   ]
  },
  {
   "cell_type": "markdown",
   "id": "2721c9a1-724e-4ac5-98d1-688761f120b6",
   "metadata": {},
   "source": [
    "## Estadisticas descriptivas de los textos"
   ]
  },
  {
   "cell_type": "code",
   "execution_count": 12,
   "id": "6eeb9d17-1199-4f90-a5e0-72921042da7e",
   "metadata": {},
   "outputs": [],
   "source": [
    "textos = data_t.copy()\n",
    "textos['Conteo'] = [len(x) for x in textos['Review']]\n",
    "textos['Moda'] = [mode([len(x) for x in i.split(' ')]) for i in textos['Review']]\n",
    "textos['Max'] = [[max([len(x) for x in i.split(' ')])][0] for i in textos['Review']]\n",
    "textos['Min'] = [[min([len(x) for x in i.split(' ')])][0] for i in textos['Review']]"
   ]
  },
  {
   "cell_type": "code",
   "execution_count": 13,
   "id": "0fe69e7c-1f65-4df4-9349-fc05007774c9",
   "metadata": {},
   "outputs": [
    {
     "data": {
      "text/html": [
       "<div>\n",
       "<style scoped>\n",
       "    .dataframe tbody tr th:only-of-type {\n",
       "        vertical-align: middle;\n",
       "    }\n",
       "\n",
       "    .dataframe tbody tr th {\n",
       "        vertical-align: top;\n",
       "    }\n",
       "\n",
       "    .dataframe thead th {\n",
       "        text-align: right;\n",
       "    }\n",
       "</style>\n",
       "<table border=\"1\" class=\"dataframe\">\n",
       "  <thead>\n",
       "    <tr style=\"text-align: right;\">\n",
       "      <th></th>\n",
       "      <th>Review</th>\n",
       "      <th>Class</th>\n",
       "      <th>Conteo</th>\n",
       "      <th>Moda</th>\n",
       "      <th>Max</th>\n",
       "      <th>Min</th>\n",
       "    </tr>\n",
       "  </thead>\n",
       "  <tbody>\n",
       "    <tr>\n",
       "      <th>0</th>\n",
       "      <td>Muy buena atención y aclaración de dudas por p...</td>\n",
       "      <td>5</td>\n",
       "      <td>252</td>\n",
       "      <td>5</td>\n",
       "      <td>20</td>\n",
       "      <td>0</td>\n",
       "    </tr>\n",
       "    <tr>\n",
       "      <th>1</th>\n",
       "      <td>Buen hotel si están obligados a estar cerca de...</td>\n",
       "      <td>3</td>\n",
       "      <td>297</td>\n",
       "      <td>2</td>\n",
       "      <td>13</td>\n",
       "      <td>1</td>\n",
       "    </tr>\n",
       "    <tr>\n",
       "      <th>2</th>\n",
       "      <td>Es un lugar muy lindo para fotografías, visite...</td>\n",
       "      <td>5</td>\n",
       "      <td>104</td>\n",
       "      <td>5</td>\n",
       "      <td>12</td>\n",
       "      <td>1</td>\n",
       "    </tr>\n",
       "    <tr>\n",
       "      <th>3</th>\n",
       "      <td>Abusados con la factura de alimentos siempre s...</td>\n",
       "      <td>3</td>\n",
       "      <td>422</td>\n",
       "      <td>2</td>\n",
       "      <td>14</td>\n",
       "      <td>1</td>\n",
       "    </tr>\n",
       "    <tr>\n",
       "      <th>4</th>\n",
       "      <td>Tuvimos un par de personas en el grupo que rea...</td>\n",
       "      <td>3</td>\n",
       "      <td>419</td>\n",
       "      <td>2</td>\n",
       "      <td>14</td>\n",
       "      <td>1</td>\n",
       "    </tr>\n",
       "    <tr>\n",
       "      <th>...</th>\n",
       "      <td>...</td>\n",
       "      <td>...</td>\n",
       "      <td>...</td>\n",
       "      <td>...</td>\n",
       "      <td>...</td>\n",
       "      <td>...</td>\n",
       "    </tr>\n",
       "    <tr>\n",
       "      <th>7870</th>\n",
       "      <td>Me parece buen sistema, agiliza el transporte,...</td>\n",
       "      <td>4</td>\n",
       "      <td>113</td>\n",
       "      <td>2</td>\n",
       "      <td>11</td>\n",
       "      <td>2</td>\n",
       "    </tr>\n",
       "    <tr>\n",
       "      <th>7871</th>\n",
       "      <td>Fue una escapada de un día desde el complejo, ...</td>\n",
       "      <td>4</td>\n",
       "      <td>261</td>\n",
       "      <td>2</td>\n",
       "      <td>12</td>\n",
       "      <td>2</td>\n",
       "    </tr>\n",
       "    <tr>\n",
       "      <th>7872</th>\n",
       "      <td>La Plaza de la Revolución es un lugar emblemát...</td>\n",
       "      <td>3</td>\n",
       "      <td>777</td>\n",
       "      <td>2</td>\n",
       "      <td>14</td>\n",
       "      <td>1</td>\n",
       "    </tr>\n",
       "    <tr>\n",
       "      <th>7873</th>\n",
       "      <td>Es la segunda ocasión que me quedo en los cuar...</td>\n",
       "      <td>1</td>\n",
       "      <td>651</td>\n",
       "      <td>2</td>\n",
       "      <td>12</td>\n",
       "      <td>0</td>\n",
       "    </tr>\n",
       "    <tr>\n",
       "      <th>7874</th>\n",
       "      <td>Llegamos por casualidad a Los Mercaderes, un g...</td>\n",
       "      <td>5</td>\n",
       "      <td>252</td>\n",
       "      <td>2</td>\n",
       "      <td>11</td>\n",
       "      <td>1</td>\n",
       "    </tr>\n",
       "  </tbody>\n",
       "</table>\n",
       "<p>7875 rows × 6 columns</p>\n",
       "</div>"
      ],
      "text/plain": [
       "                                                 Review  Class  Conteo  Moda  \\\n",
       "0     Muy buena atención y aclaración de dudas por p...      5     252     5   \n",
       "1     Buen hotel si están obligados a estar cerca de...      3     297     2   \n",
       "2     Es un lugar muy lindo para fotografías, visite...      5     104     5   \n",
       "3     Abusados con la factura de alimentos siempre s...      3     422     2   \n",
       "4     Tuvimos un par de personas en el grupo que rea...      3     419     2   \n",
       "...                                                 ...    ...     ...   ...   \n",
       "7870  Me parece buen sistema, agiliza el transporte,...      4     113     2   \n",
       "7871  Fue una escapada de un día desde el complejo, ...      4     261     2   \n",
       "7872  La Plaza de la Revolución es un lugar emblemát...      3     777     2   \n",
       "7873  Es la segunda ocasión que me quedo en los cuar...      1     651     2   \n",
       "7874  Llegamos por casualidad a Los Mercaderes, un g...      5     252     2   \n",
       "\n",
       "      Max  Min  \n",
       "0      20    0  \n",
       "1      13    1  \n",
       "2      12    1  \n",
       "3      14    1  \n",
       "4      14    1  \n",
       "...   ...  ...  \n",
       "7870   11    2  \n",
       "7871   12    2  \n",
       "7872   14    1  \n",
       "7873   12    0  \n",
       "7874   11    1  \n",
       "\n",
       "[7875 rows x 6 columns]"
      ]
     },
     "execution_count": 13,
     "metadata": {},
     "output_type": "execute_result"
    }
   ],
   "source": [
    "textos"
   ]
  },
  {
   "cell_type": "markdown",
   "id": "be57eac5-0f66-4dc0-986c-73bec93ac3c2",
   "metadata": {},
   "source": [
    "# Preparacion de los datos"
   ]
  },
  {
   "cell_type": "code",
   "execution_count": 14,
   "id": "411fc941-316b-46de-8bdb-d27bba5b5bf8",
   "metadata": {},
   "outputs": [],
   "source": [
    "#Primero eliminamos los datos duplicados\n",
    "df_procesado = data_t.copy()\n",
    "df_procesado = df_procesado.drop_duplicates()"
   ]
  },
  {
   "cell_type": "code",
   "execution_count": 15,
   "id": "9ed5e69f-ac62-4e75-ae13-4ec060a63e1f",
   "metadata": {},
   "outputs": [
    {
     "data": {
      "text/plain": [
       "(7802, 2)"
      ]
     },
     "execution_count": 15,
     "metadata": {},
     "output_type": "execute_result"
    }
   ],
   "source": [
    "df_procesado.shape"
   ]
  },
  {
   "cell_type": "markdown",
   "id": "435e1bbc-781f-4b57-b39c-7a55b984951c",
   "metadata": {},
   "source": [
    "### Funciones de limpieza"
   ]
  },
  {
   "cell_type": "code",
   "execution_count": 16,
   "id": "f09c9361-23e5-4b48-80d0-4a2ae69e2790",
   "metadata": {},
   "outputs": [],
   "source": [
    "def remove_non_ascii(words):\n",
    "    \"\"\"Remove non-ASCII characters from list of tokenized words\"\"\"\n",
    "    new_words = []\n",
    "    for word in words:\n",
    "        if word is not None:\n",
    "          new_word = unicodedata.normalize('NFKD', word).encode('ascii', 'ignore').decode('utf-8', 'ignore')\n",
    "          new_words.append(new_word)\n",
    "    return new_words\n",
    "\n",
    "def to_lowercase(words):\n",
    "    \"\"\"Convert all characters to lowercase from list of tokenized words\"\"\"\n",
    "    new_words = []\n",
    "    for word in words:\n",
    "        if word is not None:\n",
    "            new_word = word.lower()\n",
    "            if new_word != ' ':\n",
    "                new_words.append(new_word)\n",
    "    return new_words\n",
    "\n",
    "\n",
    "def replace_numbers(words):\n",
    "    \"\"\"Replace all interger occurrences in list of tokenized words with textual representation\"\"\"\n",
    "    p = inflect.engine()\n",
    "    new_words = []\n",
    "    for word in words:\n",
    "        if word.isnumeric():\n",
    "            new_word = p.number_to_words(word)\n",
    "            new_words.append(new_word)\n",
    "        else:\n",
    "            new_words.append(word)\n",
    "    return new_words\n",
    "\n",
    "def contains_number(s):\n",
    "    # Regular expression pattern to match any digit\n",
    "    pattern = re.compile(r'\\d')\n",
    "    return bool(pattern.search(s))\n",
    "\n",
    "def remove_numbers(words):\n",
    "    new_words = []\n",
    "    for word in words:\n",
    "        if not contains_number(word):\n",
    "            new_words.append(word)\n",
    "    return new_words\n",
    "    \n",
    "def remove_punctuation(words):\n",
    "    \"\"\"Remove punctuation from list of tokenized words\"\"\"\n",
    "    new_words = []\n",
    "    for word in words:\n",
    "        if word is not None:\n",
    "            # Adjusted regular expression pattern to exclude colon\n",
    "            new_word = re.sub(r'[^\\w\\s:]', '', word)\n",
    "            if new_word != '':\n",
    "                new_words.append(new_word)\n",
    "    return new_words\n",
    "\n",
    "spanish_stopwords = set(stopwords.words('spanish'))\n",
    "def remove_stopwords(words):\n",
    "    new_words = []\n",
    "    for word in words:\n",
    "        if word is not None:\n",
    "            if word not in spanish_stopwords:\n",
    "                new_words.append(word)\n",
    "    return new_words\n",
    "\n",
    "#Esta version solo convierte a minusculas y quita puntuacion\n",
    "def preprocessing(words):\n",
    "    words = to_lowercase(words)\n",
    " #   words = replace_numbers(words)\n",
    "    words = remove_punctuation(words)\n",
    "#    words = remove_non_ascii(words)\n",
    "#    words = remove_stopwords(words)\n",
    "    return words\n",
    "\n",
    "#Esta version elimina convierte a misnusculas, quita puntuacion, quita stopwords\n",
    "def preprocessing2(words):\n",
    "    words = to_lowercase(words)\n",
    "    words = remove_numbers(words)\n",
    "    words = remove_punctuation(words)\n",
    "   # words = remove_non_ascii(words)\n",
    "    words = remove_stopwords(words)\n",
    "    return words"
   ]
  },
  {
   "cell_type": "markdown",
   "id": "e93a2403-27a9-4847-87db-1826061bf751",
   "metadata": {},
   "source": [
    "#### Deberiamos eliminar las stopwords?\n",
    "Primero miremos el conjutno de palabras"
   ]
  },
  {
   "cell_type": "code",
   "execution_count": 17,
   "id": "efc10fff-f140-4fbf-ac4a-bbf1ae36dc34",
   "metadata": {},
   "outputs": [
    {
     "data": {
      "text/plain": [
       "{'a',\n",
       " 'al',\n",
       " 'algo',\n",
       " 'algunas',\n",
       " 'algunos',\n",
       " 'ante',\n",
       " 'antes',\n",
       " 'como',\n",
       " 'con',\n",
       " 'contra',\n",
       " 'cual',\n",
       " 'cuando',\n",
       " 'de',\n",
       " 'del',\n",
       " 'desde',\n",
       " 'donde',\n",
       " 'durante',\n",
       " 'e',\n",
       " 'el',\n",
       " 'ella',\n",
       " 'ellas',\n",
       " 'ellos',\n",
       " 'en',\n",
       " 'entre',\n",
       " 'era',\n",
       " 'erais',\n",
       " 'eran',\n",
       " 'eras',\n",
       " 'eres',\n",
       " 'es',\n",
       " 'esa',\n",
       " 'esas',\n",
       " 'ese',\n",
       " 'eso',\n",
       " 'esos',\n",
       " 'esta',\n",
       " 'estaba',\n",
       " 'estabais',\n",
       " 'estaban',\n",
       " 'estabas',\n",
       " 'estad',\n",
       " 'estada',\n",
       " 'estadas',\n",
       " 'estado',\n",
       " 'estados',\n",
       " 'estamos',\n",
       " 'estando',\n",
       " 'estar',\n",
       " 'estaremos',\n",
       " 'estará',\n",
       " 'estarán',\n",
       " 'estarás',\n",
       " 'estaré',\n",
       " 'estaréis',\n",
       " 'estaría',\n",
       " 'estaríais',\n",
       " 'estaríamos',\n",
       " 'estarían',\n",
       " 'estarías',\n",
       " 'estas',\n",
       " 'este',\n",
       " 'estemos',\n",
       " 'esto',\n",
       " 'estos',\n",
       " 'estoy',\n",
       " 'estuve',\n",
       " 'estuviera',\n",
       " 'estuvierais',\n",
       " 'estuvieran',\n",
       " 'estuvieras',\n",
       " 'estuvieron',\n",
       " 'estuviese',\n",
       " 'estuvieseis',\n",
       " 'estuviesen',\n",
       " 'estuvieses',\n",
       " 'estuvimos',\n",
       " 'estuviste',\n",
       " 'estuvisteis',\n",
       " 'estuviéramos',\n",
       " 'estuviésemos',\n",
       " 'estuvo',\n",
       " 'está',\n",
       " 'estábamos',\n",
       " 'estáis',\n",
       " 'están',\n",
       " 'estás',\n",
       " 'esté',\n",
       " 'estéis',\n",
       " 'estén',\n",
       " 'estés',\n",
       " 'fue',\n",
       " 'fuera',\n",
       " 'fuerais',\n",
       " 'fueran',\n",
       " 'fueras',\n",
       " 'fueron',\n",
       " 'fuese',\n",
       " 'fueseis',\n",
       " 'fuesen',\n",
       " 'fueses',\n",
       " 'fui',\n",
       " 'fuimos',\n",
       " 'fuiste',\n",
       " 'fuisteis',\n",
       " 'fuéramos',\n",
       " 'fuésemos',\n",
       " 'ha',\n",
       " 'habida',\n",
       " 'habidas',\n",
       " 'habido',\n",
       " 'habidos',\n",
       " 'habiendo',\n",
       " 'habremos',\n",
       " 'habrá',\n",
       " 'habrán',\n",
       " 'habrás',\n",
       " 'habré',\n",
       " 'habréis',\n",
       " 'habría',\n",
       " 'habríais',\n",
       " 'habríamos',\n",
       " 'habrían',\n",
       " 'habrías',\n",
       " 'habéis',\n",
       " 'había',\n",
       " 'habíais',\n",
       " 'habíamos',\n",
       " 'habían',\n",
       " 'habías',\n",
       " 'han',\n",
       " 'has',\n",
       " 'hasta',\n",
       " 'hay',\n",
       " 'haya',\n",
       " 'hayamos',\n",
       " 'hayan',\n",
       " 'hayas',\n",
       " 'hayáis',\n",
       " 'he',\n",
       " 'hemos',\n",
       " 'hube',\n",
       " 'hubiera',\n",
       " 'hubierais',\n",
       " 'hubieran',\n",
       " 'hubieras',\n",
       " 'hubieron',\n",
       " 'hubiese',\n",
       " 'hubieseis',\n",
       " 'hubiesen',\n",
       " 'hubieses',\n",
       " 'hubimos',\n",
       " 'hubiste',\n",
       " 'hubisteis',\n",
       " 'hubiéramos',\n",
       " 'hubiésemos',\n",
       " 'hubo',\n",
       " 'la',\n",
       " 'las',\n",
       " 'le',\n",
       " 'les',\n",
       " 'lo',\n",
       " 'los',\n",
       " 'me',\n",
       " 'mi',\n",
       " 'mis',\n",
       " 'mucho',\n",
       " 'muchos',\n",
       " 'muy',\n",
       " 'más',\n",
       " 'mí',\n",
       " 'mía',\n",
       " 'mías',\n",
       " 'mío',\n",
       " 'míos',\n",
       " 'nada',\n",
       " 'ni',\n",
       " 'no',\n",
       " 'nos',\n",
       " 'nosotras',\n",
       " 'nosotros',\n",
       " 'nuestra',\n",
       " 'nuestras',\n",
       " 'nuestro',\n",
       " 'nuestros',\n",
       " 'o',\n",
       " 'os',\n",
       " 'otra',\n",
       " 'otras',\n",
       " 'otro',\n",
       " 'otros',\n",
       " 'para',\n",
       " 'pero',\n",
       " 'poco',\n",
       " 'por',\n",
       " 'porque',\n",
       " 'que',\n",
       " 'quien',\n",
       " 'quienes',\n",
       " 'qué',\n",
       " 'se',\n",
       " 'sea',\n",
       " 'seamos',\n",
       " 'sean',\n",
       " 'seas',\n",
       " 'sentid',\n",
       " 'sentida',\n",
       " 'sentidas',\n",
       " 'sentido',\n",
       " 'sentidos',\n",
       " 'seremos',\n",
       " 'será',\n",
       " 'serán',\n",
       " 'serás',\n",
       " 'seré',\n",
       " 'seréis',\n",
       " 'sería',\n",
       " 'seríais',\n",
       " 'seríamos',\n",
       " 'serían',\n",
       " 'serías',\n",
       " 'seáis',\n",
       " 'siente',\n",
       " 'sin',\n",
       " 'sintiendo',\n",
       " 'sobre',\n",
       " 'sois',\n",
       " 'somos',\n",
       " 'son',\n",
       " 'soy',\n",
       " 'su',\n",
       " 'sus',\n",
       " 'suya',\n",
       " 'suyas',\n",
       " 'suyo',\n",
       " 'suyos',\n",
       " 'sí',\n",
       " 'también',\n",
       " 'tanto',\n",
       " 'te',\n",
       " 'tendremos',\n",
       " 'tendrá',\n",
       " 'tendrán',\n",
       " 'tendrás',\n",
       " 'tendré',\n",
       " 'tendréis',\n",
       " 'tendría',\n",
       " 'tendríais',\n",
       " 'tendríamos',\n",
       " 'tendrían',\n",
       " 'tendrías',\n",
       " 'tened',\n",
       " 'tenemos',\n",
       " 'tenga',\n",
       " 'tengamos',\n",
       " 'tengan',\n",
       " 'tengas',\n",
       " 'tengo',\n",
       " 'tengáis',\n",
       " 'tenida',\n",
       " 'tenidas',\n",
       " 'tenido',\n",
       " 'tenidos',\n",
       " 'teniendo',\n",
       " 'tenéis',\n",
       " 'tenía',\n",
       " 'teníais',\n",
       " 'teníamos',\n",
       " 'tenían',\n",
       " 'tenías',\n",
       " 'ti',\n",
       " 'tiene',\n",
       " 'tienen',\n",
       " 'tienes',\n",
       " 'todo',\n",
       " 'todos',\n",
       " 'tu',\n",
       " 'tus',\n",
       " 'tuve',\n",
       " 'tuviera',\n",
       " 'tuvierais',\n",
       " 'tuvieran',\n",
       " 'tuvieras',\n",
       " 'tuvieron',\n",
       " 'tuviese',\n",
       " 'tuvieseis',\n",
       " 'tuviesen',\n",
       " 'tuvieses',\n",
       " 'tuvimos',\n",
       " 'tuviste',\n",
       " 'tuvisteis',\n",
       " 'tuviéramos',\n",
       " 'tuviésemos',\n",
       " 'tuvo',\n",
       " 'tuya',\n",
       " 'tuyas',\n",
       " 'tuyo',\n",
       " 'tuyos',\n",
       " 'tú',\n",
       " 'un',\n",
       " 'una',\n",
       " 'uno',\n",
       " 'unos',\n",
       " 'vosotras',\n",
       " 'vosotros',\n",
       " 'vuestra',\n",
       " 'vuestras',\n",
       " 'vuestro',\n",
       " 'vuestros',\n",
       " 'y',\n",
       " 'ya',\n",
       " 'yo',\n",
       " 'él',\n",
       " 'éramos'}"
      ]
     },
     "execution_count": 17,
     "metadata": {},
     "output_type": "execute_result"
    }
   ],
   "source": [
    "spanish_stopwords"
   ]
  },
  {
   "cell_type": "markdown",
   "id": "46524a8f-cdc8-4a9f-9e0e-ebab6f598c47",
   "metadata": {},
   "source": [
    "Usando sentido comun, pareciera que no hay palabras asi que tengan mucho significado bueno o mal, puede llegar a ser util quitarlas"
   ]
  },
  {
   "cell_type": "markdown",
   "id": "295a8d2c-d8d4-4dc4-adf3-1d5332bdfd01",
   "metadata": {},
   "source": [
    "### Tokennizacion"
   ]
  },
  {
   "cell_type": "code",
   "execution_count": 18,
   "id": "cf4e7007-535f-4ca1-8093-f04154fff0d1",
   "metadata": {},
   "outputs": [
    {
     "data": {
      "text/plain": [
       "0"
      ]
     },
     "execution_count": 18,
     "metadata": {},
     "output_type": "execute_result"
    }
   ],
   "source": [
    "#Aplica la corrección de las contracciones (este paso no sirve para nada en realidad)\n",
    "review_antes = df_procesado['Review'].loc[600]\n",
    "df_procesado['Review'] = df_procesado['Review'].apply(contractions.fix)\n",
    "review_despues = df_procesado['Review'].loc[600]\n",
    "\n",
    "len(review_antes)-len(review_despues)"
   ]
  },
  {
   "cell_type": "markdown",
   "id": "4c4d44b0-af44-4bff-8f8a-0d91aaa58cce",
   "metadata": {},
   "source": [
    "Como que no elimino ninguan contraccion (segun GPT sirve para spanish tambien)"
   ]
  },
  {
   "cell_type": "code",
   "execution_count": 19,
   "id": "13868e13-6bd2-41bd-8d20-727356c83221",
   "metadata": {},
   "outputs": [],
   "source": [
    "#Tokens\n",
    "df_procesado['words'] = df_procesado['Review'].apply(word_tokenize)"
   ]
  },
  {
   "cell_type": "code",
   "execution_count": 20,
   "id": "5d0f0de1-f017-40ce-907a-39362c65aac9",
   "metadata": {},
   "outputs": [
    {
     "data": {
      "text/html": [
       "<div>\n",
       "<style scoped>\n",
       "    .dataframe tbody tr th:only-of-type {\n",
       "        vertical-align: middle;\n",
       "    }\n",
       "\n",
       "    .dataframe tbody tr th {\n",
       "        vertical-align: top;\n",
       "    }\n",
       "\n",
       "    .dataframe thead th {\n",
       "        text-align: right;\n",
       "    }\n",
       "</style>\n",
       "<table border=\"1\" class=\"dataframe\">\n",
       "  <thead>\n",
       "    <tr style=\"text-align: right;\">\n",
       "      <th></th>\n",
       "      <th>Review</th>\n",
       "      <th>Class</th>\n",
       "      <th>words</th>\n",
       "    </tr>\n",
       "  </thead>\n",
       "  <tbody>\n",
       "    <tr>\n",
       "      <th>0</th>\n",
       "      <td>Muy buena atención y aclaración de dudas por p...</td>\n",
       "      <td>5</td>\n",
       "      <td>[Muy, buena, atención, y, aclaración, de, duda...</td>\n",
       "    </tr>\n",
       "    <tr>\n",
       "      <th>1</th>\n",
       "      <td>Buen hotel si están obligados a estar cerca de...</td>\n",
       "      <td>3</td>\n",
       "      <td>[Buen, hotel, si, están, obligados, a, estar, ...</td>\n",
       "    </tr>\n",
       "    <tr>\n",
       "      <th>2</th>\n",
       "      <td>Es un lugar muy lindo para fotografías, visite...</td>\n",
       "      <td>5</td>\n",
       "      <td>[Es, un, lugar, muy, lindo, para, fotografías,...</td>\n",
       "    </tr>\n",
       "    <tr>\n",
       "      <th>3</th>\n",
       "      <td>Abusados con la factura de alimentos siempre s...</td>\n",
       "      <td>3</td>\n",
       "      <td>[Abusados, con, la, factura, de, alimentos, si...</td>\n",
       "    </tr>\n",
       "    <tr>\n",
       "      <th>4</th>\n",
       "      <td>Tuvimos un par de personas en el grupo que rea...</td>\n",
       "      <td>3</td>\n",
       "      <td>[Tuvimos, un, par, de, personas, en, el, grupo...</td>\n",
       "    </tr>\n",
       "  </tbody>\n",
       "</table>\n",
       "</div>"
      ],
      "text/plain": [
       "                                              Review  Class  \\\n",
       "0  Muy buena atención y aclaración de dudas por p...      5   \n",
       "1  Buen hotel si están obligados a estar cerca de...      3   \n",
       "2  Es un lugar muy lindo para fotografías, visite...      5   \n",
       "3  Abusados con la factura de alimentos siempre s...      3   \n",
       "4  Tuvimos un par de personas en el grupo que rea...      3   \n",
       "\n",
       "                                               words  \n",
       "0  [Muy, buena, atención, y, aclaración, de, duda...  \n",
       "1  [Buen, hotel, si, están, obligados, a, estar, ...  \n",
       "2  [Es, un, lugar, muy, lindo, para, fotografías,...  \n",
       "3  [Abusados, con, la, factura, de, alimentos, si...  \n",
       "4  [Tuvimos, un, par, de, personas, en, el, grupo...  "
      ]
     },
     "execution_count": 20,
     "metadata": {},
     "output_type": "execute_result"
    }
   ],
   "source": [
    "df_procesado.head()"
   ]
  },
  {
   "cell_type": "code",
   "execution_count": 21,
   "id": "7bf16564-d7f5-4389-89d5-de8dc3f72a96",
   "metadata": {},
   "outputs": [
    {
     "data": {
      "text/plain": [
       "0       [Muy, buena, atención, y, aclaración, de, duda...\n",
       "1       [Buen, hotel, si, están, obligados, a, estar, ...\n",
       "2       [Es, un, lugar, muy, lindo, para, fotografías,...\n",
       "3       [Abusados, con, la, factura, de, alimentos, si...\n",
       "4       [Tuvimos, un, par, de, personas, en, el, grupo...\n",
       "                              ...                        \n",
       "7870    [Me, parece, buen, sistema, ,, agiliza, el, tr...\n",
       "7871    [Fue, una, escapada, de, un, día, desde, el, c...\n",
       "7872    [La, Plaza, de, la, Revolución, es, un, lugar,...\n",
       "7873    [Es, la, segunda, ocasión, que, me, quedo, en,...\n",
       "7874    [Llegamos, por, casualidad, a, Los, Mercaderes...\n",
       "Name: words, Length: 7802, dtype: object"
      ]
     },
     "execution_count": 21,
     "metadata": {},
     "output_type": "execute_result"
    }
   ],
   "source": [
    "df_procesado['words'].dropna()"
   ]
  },
  {
   "cell_type": "code",
   "execution_count": 22,
   "id": "391d3f00-8cb8-4ec8-b4e4-865c3ece0c5c",
   "metadata": {},
   "outputs": [
    {
     "data": {
      "text/plain": [
       "(7802, 3)"
      ]
     },
     "execution_count": 22,
     "metadata": {},
     "output_type": "execute_result"
    }
   ],
   "source": [
    "df_procesado.shape"
   ]
  },
  {
   "cell_type": "code",
   "execution_count": 23,
   "id": "90746d4b-5c89-4076-862b-5e1eb6387eb0",
   "metadata": {},
   "outputs": [],
   "source": [
    "#Ahora apliquemos la reduccion de ruido (dos versiones distintas)\n",
    "df_procesado['words1']=df_procesado['words'].apply(preprocessing)\n",
    "df_procesado['words2']=df_procesado['words'].apply(preprocessing2)"
   ]
  },
  {
   "cell_type": "code",
   "execution_count": 24,
   "id": "d36c3e91-7cf3-44b1-9c7a-320b5e7b64c9",
   "metadata": {},
   "outputs": [
    {
     "data": {
      "text/html": [
       "<div>\n",
       "<style scoped>\n",
       "    .dataframe tbody tr th:only-of-type {\n",
       "        vertical-align: middle;\n",
       "    }\n",
       "\n",
       "    .dataframe tbody tr th {\n",
       "        vertical-align: top;\n",
       "    }\n",
       "\n",
       "    .dataframe thead th {\n",
       "        text-align: right;\n",
       "    }\n",
       "</style>\n",
       "<table border=\"1\" class=\"dataframe\">\n",
       "  <thead>\n",
       "    <tr style=\"text-align: right;\">\n",
       "      <th></th>\n",
       "      <th>Review</th>\n",
       "      <th>Class</th>\n",
       "      <th>words</th>\n",
       "      <th>words1</th>\n",
       "      <th>words2</th>\n",
       "    </tr>\n",
       "  </thead>\n",
       "  <tbody>\n",
       "    <tr>\n",
       "      <th>0</th>\n",
       "      <td>Muy buena atención y aclaración de dudas por p...</td>\n",
       "      <td>5</td>\n",
       "      <td>[Muy, buena, atención, y, aclaración, de, duda...</td>\n",
       "      <td>[muy, buena, atención, y, aclaración, de, duda...</td>\n",
       "      <td>[buena, atención, aclaración, dudas, parte, se...</td>\n",
       "    </tr>\n",
       "    <tr>\n",
       "      <th>1</th>\n",
       "      <td>Buen hotel si están obligados a estar cerca de...</td>\n",
       "      <td>3</td>\n",
       "      <td>[Buen, hotel, si, están, obligados, a, estar, ...</td>\n",
       "      <td>[buen, hotel, si, están, obligados, a, estar, ...</td>\n",
       "      <td>[buen, hotel, si, obligados, cerca, centro, co...</td>\n",
       "    </tr>\n",
       "    <tr>\n",
       "      <th>2</th>\n",
       "      <td>Es un lugar muy lindo para fotografías, visite...</td>\n",
       "      <td>5</td>\n",
       "      <td>[Es, un, lugar, muy, lindo, para, fotografías,...</td>\n",
       "      <td>[es, un, lugar, muy, lindo, para, fotografías,...</td>\n",
       "      <td>[lugar, lindo, fotografías, visiten, selina, m...</td>\n",
       "    </tr>\n",
       "    <tr>\n",
       "      <th>3</th>\n",
       "      <td>Abusados con la factura de alimentos siempre s...</td>\n",
       "      <td>3</td>\n",
       "      <td>[Abusados, con, la, factura, de, alimentos, si...</td>\n",
       "      <td>[abusados, con, la, factura, de, alimentos, si...</td>\n",
       "      <td>[abusados, factura, alimentos, siempre, echan,...</td>\n",
       "    </tr>\n",
       "    <tr>\n",
       "      <th>4</th>\n",
       "      <td>Tuvimos un par de personas en el grupo que rea...</td>\n",
       "      <td>3</td>\n",
       "      <td>[Tuvimos, un, par, de, personas, en, el, grupo...</td>\n",
       "      <td>[tuvimos, un, par, de, personas, en, el, grupo...</td>\n",
       "      <td>[par, personas, grupo, realmente, queríamos, c...</td>\n",
       "    </tr>\n",
       "  </tbody>\n",
       "</table>\n",
       "</div>"
      ],
      "text/plain": [
       "                                              Review  Class  \\\n",
       "0  Muy buena atención y aclaración de dudas por p...      5   \n",
       "1  Buen hotel si están obligados a estar cerca de...      3   \n",
       "2  Es un lugar muy lindo para fotografías, visite...      5   \n",
       "3  Abusados con la factura de alimentos siempre s...      3   \n",
       "4  Tuvimos un par de personas en el grupo que rea...      3   \n",
       "\n",
       "                                               words  \\\n",
       "0  [Muy, buena, atención, y, aclaración, de, duda...   \n",
       "1  [Buen, hotel, si, están, obligados, a, estar, ...   \n",
       "2  [Es, un, lugar, muy, lindo, para, fotografías,...   \n",
       "3  [Abusados, con, la, factura, de, alimentos, si...   \n",
       "4  [Tuvimos, un, par, de, personas, en, el, grupo...   \n",
       "\n",
       "                                              words1  \\\n",
       "0  [muy, buena, atención, y, aclaración, de, duda...   \n",
       "1  [buen, hotel, si, están, obligados, a, estar, ...   \n",
       "2  [es, un, lugar, muy, lindo, para, fotografías,...   \n",
       "3  [abusados, con, la, factura, de, alimentos, si...   \n",
       "4  [tuvimos, un, par, de, personas, en, el, grupo...   \n",
       "\n",
       "                                              words2  \n",
       "0  [buena, atención, aclaración, dudas, parte, se...  \n",
       "1  [buen, hotel, si, obligados, cerca, centro, co...  \n",
       "2  [lugar, lindo, fotografías, visiten, selina, m...  \n",
       "3  [abusados, factura, alimentos, siempre, echan,...  \n",
       "4  [par, personas, grupo, realmente, queríamos, c...  "
      ]
     },
     "execution_count": 24,
     "metadata": {},
     "output_type": "execute_result"
    }
   ],
   "source": [
    "df_procesado.head()"
   ]
  },
  {
   "cell_type": "code",
   "execution_count": 25,
   "id": "ab0a3790-889d-4527-a430-43d34e78de78",
   "metadata": {},
   "outputs": [
    {
     "data": {
      "text/plain": [
       "7799"
      ]
     },
     "execution_count": 25,
     "metadata": {},
     "output_type": "execute_result"
    }
   ],
   "source": [
    "#Veamos cuantas filas sirvio quitar stopwords\n",
    "cantidad = 0\n",
    "\n",
    "for i in df_procesado['words'].index:\n",
    "    longitud_con = len(df_procesado['words1'].loc[i])\n",
    "    longitud_sin = len(df_procesado['words2'].loc[i])\n",
    "    if longitud_con != longitud_sin:\n",
    "        cantidad = cantidad + 1\n",
    "\n",
    "cantidad"
   ]
  },
  {
   "cell_type": "markdown",
   "id": "a090d734-cfd9-4412-bb5d-886a1ea968bd",
   "metadata": {},
   "source": [
    "En casi todas las filas se eliminaron stopwords, entonces valdria la pena utilizar el preprocesamiento 2"
   ]
  },
  {
   "cell_type": "markdown",
   "id": "3573c29f-4cbd-45d4-b381-59c17b7d34d3",
   "metadata": {},
   "source": [
    "### Normalizacion"
   ]
  },
  {
   "cell_type": "code",
   "execution_count": 26,
   "id": "85f45543-db16-42e2-8630-3b0dca8272f4",
   "metadata": {},
   "outputs": [],
   "source": [
    "def stem_words(words):\n",
    "    \"\"\"Stem words in list of tokenized words\"\"\"\n",
    "    # Initialize SnowballStemmer for Spanish\n",
    "    stemmer = SnowballStemmer(language='spanish')\n",
    "    # Stem each word in the list\n",
    "    stemmed_words = [stemmer.stem(word) for word in words]\n",
    "    return stemmed_words\n",
    "\n",
    "\n",
    "def stem_and_lemmatize(words):\n",
    "    stems = stem_words(words)\n",
    "#    lemmas = lemmatize_verbs(words)\n",
    "#    return stems + lemmas\n",
    "    return words"
   ]
  },
  {
   "cell_type": "code",
   "execution_count": 27,
   "id": "7167cf85-814f-48d6-a938-575e7c69346a",
   "metadata": {
    "scrolled": true
   },
   "outputs": [
    {
     "data": {
      "text/html": [
       "<div>\n",
       "<style scoped>\n",
       "    .dataframe tbody tr th:only-of-type {\n",
       "        vertical-align: middle;\n",
       "    }\n",
       "\n",
       "    .dataframe tbody tr th {\n",
       "        vertical-align: top;\n",
       "    }\n",
       "\n",
       "    .dataframe thead th {\n",
       "        text-align: right;\n",
       "    }\n",
       "</style>\n",
       "<table border=\"1\" class=\"dataframe\">\n",
       "  <thead>\n",
       "    <tr style=\"text-align: right;\">\n",
       "      <th></th>\n",
       "      <th>Review</th>\n",
       "      <th>Class</th>\n",
       "      <th>words</th>\n",
       "      <th>words1</th>\n",
       "      <th>words2</th>\n",
       "      <th>words3</th>\n",
       "    </tr>\n",
       "  </thead>\n",
       "  <tbody>\n",
       "    <tr>\n",
       "      <th>0</th>\n",
       "      <td>Muy buena atención y aclaración de dudas por p...</td>\n",
       "      <td>5</td>\n",
       "      <td>[Muy, buena, atención, y, aclaración, de, duda...</td>\n",
       "      <td>[muy, buena, atención, y, aclaración, de, duda...</td>\n",
       "      <td>[buena, atención, aclaración, dudas, parte, se...</td>\n",
       "      <td>[buena, atención, aclaración, dudas, parte, se...</td>\n",
       "    </tr>\n",
       "    <tr>\n",
       "      <th>1</th>\n",
       "      <td>Buen hotel si están obligados a estar cerca de...</td>\n",
       "      <td>3</td>\n",
       "      <td>[Buen, hotel, si, están, obligados, a, estar, ...</td>\n",
       "      <td>[buen, hotel, si, están, obligados, a, estar, ...</td>\n",
       "      <td>[buen, hotel, si, obligados, cerca, centro, co...</td>\n",
       "      <td>[buen, hotel, si, obligados, cerca, centro, co...</td>\n",
       "    </tr>\n",
       "    <tr>\n",
       "      <th>2</th>\n",
       "      <td>Es un lugar muy lindo para fotografías, visite...</td>\n",
       "      <td>5</td>\n",
       "      <td>[Es, un, lugar, muy, lindo, para, fotografías,...</td>\n",
       "      <td>[es, un, lugar, muy, lindo, para, fotografías,...</td>\n",
       "      <td>[lugar, lindo, fotografías, visiten, selina, m...</td>\n",
       "      <td>[lugar, lindo, fotografías, visiten, selina, m...</td>\n",
       "    </tr>\n",
       "    <tr>\n",
       "      <th>3</th>\n",
       "      <td>Abusados con la factura de alimentos siempre s...</td>\n",
       "      <td>3</td>\n",
       "      <td>[Abusados, con, la, factura, de, alimentos, si...</td>\n",
       "      <td>[abusados, con, la, factura, de, alimentos, si...</td>\n",
       "      <td>[abusados, factura, alimentos, siempre, echan,...</td>\n",
       "      <td>[abusados, factura, alimentos, siempre, echan,...</td>\n",
       "    </tr>\n",
       "    <tr>\n",
       "      <th>4</th>\n",
       "      <td>Tuvimos un par de personas en el grupo que rea...</td>\n",
       "      <td>3</td>\n",
       "      <td>[Tuvimos, un, par, de, personas, en, el, grupo...</td>\n",
       "      <td>[tuvimos, un, par, de, personas, en, el, grupo...</td>\n",
       "      <td>[par, personas, grupo, realmente, queríamos, c...</td>\n",
       "      <td>[par, personas, grupo, realmente, queríamos, c...</td>\n",
       "    </tr>\n",
       "  </tbody>\n",
       "</table>\n",
       "</div>"
      ],
      "text/plain": [
       "                                              Review  Class  \\\n",
       "0  Muy buena atención y aclaración de dudas por p...      5   \n",
       "1  Buen hotel si están obligados a estar cerca de...      3   \n",
       "2  Es un lugar muy lindo para fotografías, visite...      5   \n",
       "3  Abusados con la factura de alimentos siempre s...      3   \n",
       "4  Tuvimos un par de personas en el grupo que rea...      3   \n",
       "\n",
       "                                               words  \\\n",
       "0  [Muy, buena, atención, y, aclaración, de, duda...   \n",
       "1  [Buen, hotel, si, están, obligados, a, estar, ...   \n",
       "2  [Es, un, lugar, muy, lindo, para, fotografías,...   \n",
       "3  [Abusados, con, la, factura, de, alimentos, si...   \n",
       "4  [Tuvimos, un, par, de, personas, en, el, grupo...   \n",
       "\n",
       "                                              words1  \\\n",
       "0  [muy, buena, atención, y, aclaración, de, duda...   \n",
       "1  [buen, hotel, si, están, obligados, a, estar, ...   \n",
       "2  [es, un, lugar, muy, lindo, para, fotografías,...   \n",
       "3  [abusados, con, la, factura, de, alimentos, si...   \n",
       "4  [tuvimos, un, par, de, personas, en, el, grupo...   \n",
       "\n",
       "                                              words2  \\\n",
       "0  [buena, atención, aclaración, dudas, parte, se...   \n",
       "1  [buen, hotel, si, obligados, cerca, centro, co...   \n",
       "2  [lugar, lindo, fotografías, visiten, selina, m...   \n",
       "3  [abusados, factura, alimentos, siempre, echan,...   \n",
       "4  [par, personas, grupo, realmente, queríamos, c...   \n",
       "\n",
       "                                              words3  \n",
       "0  [buena, atención, aclaración, dudas, parte, se...  \n",
       "1  [buen, hotel, si, obligados, cerca, centro, co...  \n",
       "2  [lugar, lindo, fotografías, visiten, selina, m...  \n",
       "3  [abusados, factura, alimentos, siempre, echan,...  \n",
       "4  [par, personas, grupo, realmente, queríamos, c...  "
      ]
     },
     "execution_count": 27,
     "metadata": {},
     "output_type": "execute_result"
    }
   ],
   "source": [
    "df_procesado['words3'] = df_procesado['words2'].apply(stem_and_lemmatize) #Aplica lematización y Eliminación de Prefijos y Sufijos.\n",
    "df_procesado.head()"
   ]
  },
  {
   "cell_type": "code",
   "execution_count": 28,
   "id": "1f414268-2f7c-4c02-9f30-2da6e3a83c45",
   "metadata": {},
   "outputs": [
    {
     "data": {
      "text/plain": [
       "0"
      ]
     },
     "execution_count": 28,
     "metadata": {},
     "output_type": "execute_result"
    }
   ],
   "source": [
    "#Veamos cuantas filas sirvio usar lemas\n",
    "cantidad = 0\n",
    "\n",
    "for i in df_procesado['words'].index:\n",
    "    longitud_con = len(df_procesado['words2'].loc[i])\n",
    "    longitud_sin = len(df_procesado['words3'].loc[i])\n",
    "    if longitud_con != longitud_sin:\n",
    "        cantidad = cantidad + 1\n",
    "\n",
    "cantidad"
   ]
  },
  {
   "cell_type": "markdown",
   "id": "fb2c3c2b-1ed5-4eb1-8b13-707f8c07293e",
   "metadata": {},
   "source": [
    "Usar lemas no sirvio para nada"
   ]
  },
  {
   "cell_type": "markdown",
   "id": "31fafed4-393e-49bd-8b55-f6a733e54145",
   "metadata": {},
   "source": [
    "### Seleccion de campos"
   ]
  },
  {
   "cell_type": "code",
   "execution_count": 29,
   "id": "4fbe4484-c5e1-4bf8-8ed3-4e623b8eb23c",
   "metadata": {},
   "outputs": [
    {
     "data": {
      "text/html": [
       "<div>\n",
       "<style scoped>\n",
       "    .dataframe tbody tr th:only-of-type {\n",
       "        vertical-align: middle;\n",
       "    }\n",
       "\n",
       "    .dataframe tbody tr th {\n",
       "        vertical-align: top;\n",
       "    }\n",
       "\n",
       "    .dataframe thead th {\n",
       "        text-align: right;\n",
       "    }\n",
       "</style>\n",
       "<table border=\"1\" class=\"dataframe\">\n",
       "  <thead>\n",
       "    <tr style=\"text-align: right;\">\n",
       "      <th></th>\n",
       "      <th>Review</th>\n",
       "      <th>Class</th>\n",
       "      <th>words</th>\n",
       "      <th>words1</th>\n",
       "      <th>words2</th>\n",
       "      <th>words3</th>\n",
       "    </tr>\n",
       "  </thead>\n",
       "  <tbody>\n",
       "    <tr>\n",
       "      <th>0</th>\n",
       "      <td>Muy buena atención y aclaración de dudas por p...</td>\n",
       "      <td>5</td>\n",
       "      <td>[Muy, buena, atención, y, aclaración, de, duda...</td>\n",
       "      <td>[muy, buena, atención, y, aclaración, de, duda...</td>\n",
       "      <td>buena atención aclaración dudas parte señorita...</td>\n",
       "      <td>[buena, atención, aclaración, dudas, parte, se...</td>\n",
       "    </tr>\n",
       "    <tr>\n",
       "      <th>1</th>\n",
       "      <td>Buen hotel si están obligados a estar cerca de...</td>\n",
       "      <td>3</td>\n",
       "      <td>[Buen, hotel, si, están, obligados, a, estar, ...</td>\n",
       "      <td>[buen, hotel, si, están, obligados, a, estar, ...</td>\n",
       "      <td>buen hotel si obligados cerca centro convencio...</td>\n",
       "      <td>[buen, hotel, si, obligados, cerca, centro, co...</td>\n",
       "    </tr>\n",
       "    <tr>\n",
       "      <th>2</th>\n",
       "      <td>Es un lugar muy lindo para fotografías, visite...</td>\n",
       "      <td>5</td>\n",
       "      <td>[Es, un, lugar, muy, lindo, para, fotografías,...</td>\n",
       "      <td>[es, un, lugar, muy, lindo, para, fotografías,...</td>\n",
       "      <td>lugar lindo fotografías visiten selina música ...</td>\n",
       "      <td>[lugar, lindo, fotografías, visiten, selina, m...</td>\n",
       "    </tr>\n",
       "    <tr>\n",
       "      <th>3</th>\n",
       "      <td>Abusados con la factura de alimentos siempre s...</td>\n",
       "      <td>3</td>\n",
       "      <td>[Abusados, con, la, factura, de, alimentos, si...</td>\n",
       "      <td>[abusados, con, la, factura, de, alimentos, si...</td>\n",
       "      <td>abusados factura alimentos siempre echan culpa...</td>\n",
       "      <td>[abusados, factura, alimentos, siempre, echan,...</td>\n",
       "    </tr>\n",
       "    <tr>\n",
       "      <th>4</th>\n",
       "      <td>Tuvimos un par de personas en el grupo que rea...</td>\n",
       "      <td>3</td>\n",
       "      <td>[Tuvimos, un, par, de, personas, en, el, grupo...</td>\n",
       "      <td>[tuvimos, un, par, de, personas, en, el, grupo...</td>\n",
       "      <td>par personas grupo realmente queríamos comer c...</td>\n",
       "      <td>[par, personas, grupo, realmente, queríamos, c...</td>\n",
       "    </tr>\n",
       "    <tr>\n",
       "      <th>...</th>\n",
       "      <td>...</td>\n",
       "      <td>...</td>\n",
       "      <td>...</td>\n",
       "      <td>...</td>\n",
       "      <td>...</td>\n",
       "      <td>...</td>\n",
       "    </tr>\n",
       "    <tr>\n",
       "      <th>7870</th>\n",
       "      <td>Me parece buen sistema, agiliza el transporte,...</td>\n",
       "      <td>4</td>\n",
       "      <td>[Me, parece, buen, sistema, ,, agiliza, el, tr...</td>\n",
       "      <td>[me, parece, buen, sistema, agiliza, el, trans...</td>\n",
       "      <td>parece buen sistema agiliza transporte conecta...</td>\n",
       "      <td>[parece, buen, sistema, agiliza, transporte, c...</td>\n",
       "    </tr>\n",
       "    <tr>\n",
       "      <th>7871</th>\n",
       "      <td>Fue una escapada de un día desde el complejo, ...</td>\n",
       "      <td>4</td>\n",
       "      <td>[Fue, una, escapada, de, un, día, desde, el, c...</td>\n",
       "      <td>[fue, una, escapada, de, un, día, desde, el, c...</td>\n",
       "      <td>escapada día complejo grupo turistas guías inf...</td>\n",
       "      <td>[escapada, día, complejo, grupo, turistas, guí...</td>\n",
       "    </tr>\n",
       "    <tr>\n",
       "      <th>7872</th>\n",
       "      <td>La Plaza de la Revolución es un lugar emblemát...</td>\n",
       "      <td>3</td>\n",
       "      <td>[La, Plaza, de, la, Revolución, es, un, lugar,...</td>\n",
       "      <td>[la, plaza, de, la, revolución, es, un, lugar,...</td>\n",
       "      <td>plaza revolución lugar emblemático identifica ...</td>\n",
       "      <td>[plaza, revolución, lugar, emblemático, identi...</td>\n",
       "    </tr>\n",
       "    <tr>\n",
       "      <th>7873</th>\n",
       "      <td>Es la segunda ocasión que me quedo en los cuar...</td>\n",
       "      <td>1</td>\n",
       "      <td>[Es, la, segunda, ocasión, que, me, quedo, en,...</td>\n",
       "      <td>[es, la, segunda, ocasión, que, me, quedo, en,...</td>\n",
       "      <td>segunda ocasión quedo cuartos area jardín cómo...</td>\n",
       "      <td>[segunda, ocasión, quedo, cuartos, area, jardí...</td>\n",
       "    </tr>\n",
       "    <tr>\n",
       "      <th>7874</th>\n",
       "      <td>Llegamos por casualidad a Los Mercaderes, un g...</td>\n",
       "      <td>5</td>\n",
       "      <td>[Llegamos, por, casualidad, a, Los, Mercaderes...</td>\n",
       "      <td>[llegamos, por, casualidad, a, los, mercaderes...</td>\n",
       "      <td>llegamos casualidad mercaderes grupo grande va...</td>\n",
       "      <td>[llegamos, casualidad, mercaderes, grupo, gran...</td>\n",
       "    </tr>\n",
       "  </tbody>\n",
       "</table>\n",
       "<p>7802 rows × 6 columns</p>\n",
       "</div>"
      ],
      "text/plain": [
       "                                                 Review  Class  \\\n",
       "0     Muy buena atención y aclaración de dudas por p...      5   \n",
       "1     Buen hotel si están obligados a estar cerca de...      3   \n",
       "2     Es un lugar muy lindo para fotografías, visite...      5   \n",
       "3     Abusados con la factura de alimentos siempre s...      3   \n",
       "4     Tuvimos un par de personas en el grupo que rea...      3   \n",
       "...                                                 ...    ...   \n",
       "7870  Me parece buen sistema, agiliza el transporte,...      4   \n",
       "7871  Fue una escapada de un día desde el complejo, ...      4   \n",
       "7872  La Plaza de la Revolución es un lugar emblemát...      3   \n",
       "7873  Es la segunda ocasión que me quedo en los cuar...      1   \n",
       "7874  Llegamos por casualidad a Los Mercaderes, un g...      5   \n",
       "\n",
       "                                                  words  \\\n",
       "0     [Muy, buena, atención, y, aclaración, de, duda...   \n",
       "1     [Buen, hotel, si, están, obligados, a, estar, ...   \n",
       "2     [Es, un, lugar, muy, lindo, para, fotografías,...   \n",
       "3     [Abusados, con, la, factura, de, alimentos, si...   \n",
       "4     [Tuvimos, un, par, de, personas, en, el, grupo...   \n",
       "...                                                 ...   \n",
       "7870  [Me, parece, buen, sistema, ,, agiliza, el, tr...   \n",
       "7871  [Fue, una, escapada, de, un, día, desde, el, c...   \n",
       "7872  [La, Plaza, de, la, Revolución, es, un, lugar,...   \n",
       "7873  [Es, la, segunda, ocasión, que, me, quedo, en,...   \n",
       "7874  [Llegamos, por, casualidad, a, Los, Mercaderes...   \n",
       "\n",
       "                                                 words1  \\\n",
       "0     [muy, buena, atención, y, aclaración, de, duda...   \n",
       "1     [buen, hotel, si, están, obligados, a, estar, ...   \n",
       "2     [es, un, lugar, muy, lindo, para, fotografías,...   \n",
       "3     [abusados, con, la, factura, de, alimentos, si...   \n",
       "4     [tuvimos, un, par, de, personas, en, el, grupo...   \n",
       "...                                                 ...   \n",
       "7870  [me, parece, buen, sistema, agiliza, el, trans...   \n",
       "7871  [fue, una, escapada, de, un, día, desde, el, c...   \n",
       "7872  [la, plaza, de, la, revolución, es, un, lugar,...   \n",
       "7873  [es, la, segunda, ocasión, que, me, quedo, en,...   \n",
       "7874  [llegamos, por, casualidad, a, los, mercaderes...   \n",
       "\n",
       "                                                 words2  \\\n",
       "0     buena atención aclaración dudas parte señorita...   \n",
       "1     buen hotel si obligados cerca centro convencio...   \n",
       "2     lugar lindo fotografías visiten selina música ...   \n",
       "3     abusados factura alimentos siempre echan culpa...   \n",
       "4     par personas grupo realmente queríamos comer c...   \n",
       "...                                                 ...   \n",
       "7870  parece buen sistema agiliza transporte conecta...   \n",
       "7871  escapada día complejo grupo turistas guías inf...   \n",
       "7872  plaza revolución lugar emblemático identifica ...   \n",
       "7873  segunda ocasión quedo cuartos area jardín cómo...   \n",
       "7874  llegamos casualidad mercaderes grupo grande va...   \n",
       "\n",
       "                                                 words3  \n",
       "0     [buena, atención, aclaración, dudas, parte, se...  \n",
       "1     [buen, hotel, si, obligados, cerca, centro, co...  \n",
       "2     [lugar, lindo, fotografías, visiten, selina, m...  \n",
       "3     [abusados, factura, alimentos, siempre, echan,...  \n",
       "4     [par, personas, grupo, realmente, queríamos, c...  \n",
       "...                                                 ...  \n",
       "7870  [parece, buen, sistema, agiliza, transporte, c...  \n",
       "7871  [escapada, día, complejo, grupo, turistas, guí...  \n",
       "7872  [plaza, revolución, lugar, emblemático, identi...  \n",
       "7873  [segunda, ocasión, quedo, cuartos, area, jardí...  \n",
       "7874  [llegamos, casualidad, mercaderes, grupo, gran...  \n",
       "\n",
       "[7802 rows x 6 columns]"
      ]
     },
     "execution_count": 29,
     "metadata": {},
     "output_type": "execute_result"
    }
   ],
   "source": [
    "df_procesado['words2'] = df_procesado['words2'].apply(lambda x: ' '.join(map(str, x)))\n",
    "df_procesado"
   ]
  },
  {
   "cell_type": "code",
   "execution_count": 30,
   "id": "3bacd1e1-c2a6-46aa-b44d-8583add46f0f",
   "metadata": {},
   "outputs": [
    {
     "data": {
      "text/plain": [
       "0       5\n",
       "1       3\n",
       "2       5\n",
       "3       3\n",
       "4       3\n",
       "       ..\n",
       "7870    4\n",
       "7871    4\n",
       "7872    3\n",
       "7873    1\n",
       "7874    5\n",
       "Name: Class, Length: 7802, dtype: int64"
      ]
     },
     "execution_count": 30,
     "metadata": {},
     "output_type": "execute_result"
    }
   ],
   "source": [
    "X_data, y_data = df_procesado['words2'],df_procesado['Class']\n",
    "y_data"
   ]
  },
  {
   "cell_type": "code",
   "execution_count": 31,
   "id": "60a7e99e-4925-4768-97a9-81910460c17f",
   "metadata": {},
   "outputs": [
    {
     "name": "stdout",
     "output_type": "stream",
     "text": [
      "Shape of transformed data: (7802, 26027)\n",
      "Column 282: 'aclaración'\n",
      "Column 1205: 'amable'\n",
      "Column 2310: 'atención'\n",
      "Column 2342: 'atenta'\n",
      "Column 3482: 'buena'\n",
      "Column 3488: 'buenas'\n",
      "Column 4309: 'castillo'\n",
      "Column 5314: 'comida'\n",
      "Column 5319: 'comidas'\n",
      "Column 6645: 'cuestión'\n",
      "Column 7433: 'descansar'\n",
      "Column 8537: 'dudas'\n",
      "Column 12016: 'habitaciónes'\n",
      "Column 12711: 'ideal'\n",
      "Column 14191: 'laborable'\n",
      "Column 14552: 'limpieza'\n",
      "Column 17407: 'ordenadas'\n",
      "Column 17908: 'parte'\n",
      "Column 21354: 'restaurante'\n",
      "Column 22504: 'señorita'\n",
      "Column 25014: 'variedad'\n",
      "Column 25253: 'verónica'\n"
     ]
    }
   ],
   "source": [
    "# Initialize CountVectorizer with desired parameters\n",
    "count = CountVectorizer()\n",
    "\n",
    "# Fit and transform the data\n",
    "X_count = count.fit_transform(X_data)\n",
    "\n",
    "# Get feature names\n",
    "feature_names = count.get_feature_names_out()\n",
    "\n",
    "# Print shape of transformed data\n",
    "print(\"Shape of transformed data:\", X_count.shape)\n",
    "\n",
    "# Access the first row of the transformed data and its corresponding feature names\n",
    "first_row = X_count.toarray()[0]\n",
    "for idx, value in enumerate(first_row):\n",
    "    if value > 0:\n",
    "        print(f\"Column {idx}: '{feature_names[idx]}'\")"
   ]
  },
  {
   "cell_type": "markdown",
   "id": "20131b96-ebe2-4692-b819-4e90e3289245",
   "metadata": {},
   "source": [
    "### Exportamos"
   ]
  },
  {
   "cell_type": "code",
   "execution_count": 32,
   "id": "2ccad0fc-2797-4b26-8621-8647f03644b0",
   "metadata": {},
   "outputs": [],
   "source": [
    "#Exportamos X\n",
    "# Create DataFrame from transformed data\n",
    "df_x = pd.DataFrame(X_count.toarray(), columns=feature_names)"
   ]
  },
  {
   "cell_type": "code",
   "execution_count": 34,
   "id": "6ed59389-de20-4646-9d6f-9bd0a5060e91",
   "metadata": {},
   "outputs": [],
   "source": [
    "df_x.to_csv('./../../DatosProcesados/X_train_V1.csv', index=False)"
   ]
  },
  {
   "cell_type": "code",
   "execution_count": 35,
   "id": "b41d40c7-3fb8-4060-9d41-e8a6463ab666",
   "metadata": {},
   "outputs": [],
   "source": [
    "#Exportamos Y\n",
    "df_y = pd.DataFrame({'Class': y_data})\n",
    "\n",
    "# Export the DataFrame to a CSV file\n",
    "df_y.to_csv('./../../DatosProcesados/Y_train_V1.csv', index=False)"
   ]
  }
 ],
 "metadata": {
  "kernelspec": {
   "display_name": "Python 3 (ipykernel)",
   "language": "python",
   "name": "python3"
  },
  "language_info": {
   "codemirror_mode": {
    "name": "ipython",
    "version": 3
   },
   "file_extension": ".py",
   "mimetype": "text/x-python",
   "name": "python",
   "nbconvert_exporter": "python",
   "pygments_lexer": "ipython3",
   "version": "3.11.7"
  }
 },
 "nbformat": 4,
 "nbformat_minor": 5
}
